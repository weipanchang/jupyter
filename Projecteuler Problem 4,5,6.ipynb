{
 "cells": [
  {
   "cell_type": "code",
   "execution_count": 1,
   "metadata": {},
   "outputs": [],
   "source": [
    "# A palindromic number reads the same both ways. The largest palindrome made from the product of two 2-digit numbers is 9009 = 91 × 99.\n",
    "\n",
    "# Find the largest palindrome made from the product of two 3-digit numbers.\n"
   ]
  },
  {
   "cell_type": "code",
   "execution_count": 2,
   "metadata": {},
   "outputs": [
    {
     "name": "stdout",
     "output_type": "stream",
     "text": [
      "The palindrome is  906609  The factors are  993 913\n"
     ]
    }
   ],
   "source": [
    "def check_palindrome(n):\n",
    "    s = str(n)\n",
    "    for i in range(len(s) //2 + 1):\n",
    "        if s[i] != s[len(s) - i -1]:\n",
    "            return False\n",
    "    return True\n",
    "\n",
    "def find_factor(n):\n",
    "    for i in range(998, 100, -1):\n",
    "        if (n % i == 0) and len(str(int(n/i))) ==3: \n",
    "            print (\"The palindrome is \", n, \" The factors are \", i, int(n/i))\n",
    "            return True\n",
    "    return False\n",
    "\n",
    "for n in range(999999,100001, -1):\n",
    "    if check_palindrome(n) == True:\n",
    "        if find_factor(n) == True:\n",
    "            break\n",
    "\n"
   ]
  },
  {
   "cell_type": "code",
   "execution_count": 3,
   "metadata": {},
   "outputs": [],
   "source": [
    "# 2520 is the smallest number that can be divided by each of the numbers from 1 to 10 without any remainder.\n",
    "\n",
    "# What is the smallest positive number that is evenly divisible by all of the numbers from 1 to 20?\n"
   ]
  },
  {
   "cell_type": "code",
   "execution_count": 4,
   "metadata": {},
   "outputs": [
    {
     "name": "stdout",
     "output_type": "stream",
     "text": [
      "The Smallest Multiple for  1 to 10 is  2520\n",
      "The Smallest Multiple for  1 to 20 is  232792560\n",
      "The Smallest Multiple for  1 to 30 is  2329089562800\n"
     ]
    }
   ],
   "source": [
    "import math\n",
    "from functools import reduce\n",
    "def LCM(m, n):\n",
    "    a = [m, n]\n",
    "    a = [m,n] if m >= n else [n,m]\n",
    "    while a[1]:\n",
    "        a[0], a[1] = a[1], a[0] % a[1]\n",
    "    return ((m * n) / a[0])\n",
    "        \n",
    "def is_primary(n):\n",
    "    for i in range(2, int(math.sqrt(n)) + 1):\n",
    "        if n % i == 0: return False\n",
    "    return True\n",
    "\n",
    "def generate_primary_list(m):\n",
    "    l = [2,3]\n",
    "    for i in range(4, m + 1):\n",
    "        if is_primary(i):\n",
    "            l.append(i)\n",
    "    return l\n",
    "\n",
    "def Smallest_multiple(m):\n",
    "    l = generate_primary_list(m)\n",
    "#    print l\n",
    "    prod= reduce(lambda a, b : a * b, l)\n",
    "    for i in range(2, m + 1):\n",
    "        if i not in l:\n",
    "            prod = LCM(prod, i)\n",
    "    return prod\n",
    "\n",
    "print (\"The Smallest Multiple for \", \"1 to 10 is \", int(Smallest_multiple(10)))\n",
    "print (\"The Smallest Multiple for \", \"1 to 20 is \", int(Smallest_multiple(20)))\n",
    "print (\"The Smallest Multiple for \", \"1 to 30 is \", int(Smallest_multiple(30)))"
   ]
  },
  {
   "cell_type": "code",
   "execution_count": 5,
   "metadata": {},
   "outputs": [],
   "source": [
    "#The sum of the squares of the first ten natural numbers is,\n",
    "#12 + 22 + ... + 102 = 385\n",
    "\n",
    "#The square of the sum of the first ten natural numbers is,\n",
    "#(1 + 2 + ... + 10)2 = 552 = 3025\n",
    "\n",
    "#Hence the difference between the sum of the squares of the first ten natural numbers and the square of the sum is 3025 − 385 = 2640.\n",
    "\n",
    "#Find the difference between the sum of the squares of the first one hundred natural numbers and the square of the sum.\n"
   ]
  },
  {
   "cell_type": "code",
   "execution_count": 6,
   "metadata": {},
   "outputs": [
    {
     "name": "stdout",
     "output_type": "stream",
     "text": [
      "sum_square_difference for 10 is  2640\n",
      "sum_square_difference for 100 is  25164150\n",
      "sum_square_difference for 10000 is  250166416500\n"
     ]
    }
   ],
   "source": [
    "#!/usr/bin/env python\n",
    "from functools import reduce\n",
    "def sum_square_difference(m):\n",
    "    l = [i for i in range(m+1)]\n",
    "    return sum(l) ** 2 - reduce((lambda a, b : a + (b ** 2)), l)\n",
    "\n",
    "print (\"sum_square_difference for 10 is \",  sum_square_difference(10))\n",
    "print (\"sum_square_difference for 100 is \",  sum_square_difference(100))\n",
    "print (\"sum_square_difference for 10000 is \",  sum_square_difference(1000))"
   ]
  }
 ],
 "metadata": {
  "kernelspec": {
   "display_name": "Python 3",
   "language": "python",
   "name": "python3"
  },
  "language_info": {
   "codemirror_mode": {
    "name": "ipython",
    "version": 3
   },
   "file_extension": ".py",
   "mimetype": "text/x-python",
   "name": "python",
   "nbconvert_exporter": "python",
   "pygments_lexer": "ipython3",
   "version": "3.7.1"
  }
 },
 "nbformat": 4,
 "nbformat_minor": 2
}
