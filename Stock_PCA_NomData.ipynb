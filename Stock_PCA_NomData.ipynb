{
 "cells": [
  {
   "cell_type": "code",
   "execution_count": 101,
   "metadata": {},
   "outputs": [
    {
     "data": {
      "text/plain": [
       "'\\nRegression with Stock history data -- yahoo stock dataset -- 3228 data rows\\nProdict APPLE stock price with the follwing sector index\\n\\nXAX    NYSE AMEX COMPOSITE INDEX\\nIXIC   NASDAQ Composite\\nNYA    NYSE COMPOSITE\\nGSPC   S&P 500\\nNDXT   NASDAQ-100 Technology Sector Index\\t\\nNDXX   NASDAQ-100 Ex-Tech Sector Index\\nIXCO   NASDAQ Computer\\nIXTC   NASDAQ Telecommunications\\nSOX    PHLX Semiconductor\\n\\n'"
      ]
     },
     "execution_count": 101,
     "metadata": {},
     "output_type": "execute_result"
    }
   ],
   "source": [
    "\"\"\"\n",
    "Regression with Stock history data -- yahoo stock dataset -- 3228 data rows\n",
    "Prodict APPLE stock price with the follwing sector index\n",
    "\n",
    "XAX    NYSE AMEX COMPOSITE INDEX\n",
    "IXIC   NASDAQ Composite\n",
    "NYA    NYSE COMPOSITE\n",
    "GSPC   S&P 500\n",
    "NDXT   NASDAQ-100 Technology Sector Index\t\n",
    "NDXX   NASDAQ-100 Ex-Tech Sector Index\n",
    "IXCO   NASDAQ Computer\n",
    "IXTC   NASDAQ Telecommunications\n",
    "SOX    PHLX Semiconductor\n",
    "\n",
    "\"\"\""
   ]
  },
  {
   "cell_type": "code",
   "execution_count": 102,
   "metadata": {},
   "outputs": [],
   "source": [
    "import pandas as pd\n",
    "import numpy as np\n",
    "import matplotlib.pyplot as plt\n",
    "from sklearn import preprocessing\n",
    "from matplotlib import pyplot as plt\n",
    "from matplotlib import cm as cm\n",
    "%matplotlib inline"
   ]
  },
  {
   "cell_type": "code",
   "execution_count": 103,
   "metadata": {},
   "outputs": [],
   "source": [
    "start_date = \"2006-02-22\"\n",
    "stock_list = [\"AAPL\", \"IXIC\", \"NYA\", \"GSPC\", \"XAX\", \"SOX\", \"IXTC\", \"IXCO\", \"NDXT\", \"NDXX\"]\n"
   ]
  },
  {
   "cell_type": "code",
   "execution_count": 104,
   "metadata": {},
   "outputs": [],
   "source": [
    "def read_write_file(filename, output_file):\n",
    "    line_count = 0\n",
    "    file_read = open(filename,\"r\")\n",
    "#    line =  file_read.readline()\n",
    "    file_write = open(output_file,\"w\")\n",
    "    for line in iter(file_read):\n",
    "        line_no_newline = line.rstrip()\n",
    "        line_split = line_no_newline.split(\",\")\n",
    "        if line_split[0] >= start_date:\n",
    "            line_count += 1\n",
    "            file_write.write(line)\n",
    "    file_read.close()\n",
    "    file_write.close()\n",
    "    return"
   ]
  },
  {
   "cell_type": "code",
   "execution_count": 105,
   "metadata": {},
   "outputs": [
    {
     "name": "stdout",
     "output_type": "stream",
     "text": [
      "Stock Symbol:  AAPL\n",
      "Dataframe shape:  (3228, 7) \n",
      "\n",
      "         Date       Open       High        Low      Close  Adj Close  \\\n",
      "0  2006-02-22   9.857142  10.238571   9.714286  10.188571   6.822909   \n",
      "1  2006-02-23  10.255714  10.428572  10.204286  10.250000   6.864043   \n",
      "2  2006-02-24  10.305715  10.412857  10.171429  10.208571   6.836300   \n",
      "3  2006-02-27  10.284286  10.302857  10.092857  10.141429   6.791339   \n",
      "4  2006-02-28  10.225715  10.342857   9.728572   9.784286   6.552172   \n",
      "\n",
      "      Volume  \n",
      "0  244559700  \n",
      "1  214229400  \n",
      "2  133686000  \n",
      "3  197810200  \n",
      "4  316745100  \n",
      "\n",
      "              Open         High          Low        Close    Adj Close  \\\n",
      "count  3228.000000  3228.000000  3228.000000  3228.000000  3228.000000   \n",
      "mean     74.650619    75.333597    73.914648    74.638978    65.571068   \n",
      "std      54.194092    54.618077    53.772153    54.200844    56.022541   \n",
      "min       7.390000     7.555714     7.165714     7.238572     4.847402   \n",
      "25%      25.037858    25.392857    24.567857    24.968215    16.720282   \n",
      "50%      65.364998    65.761429    64.740715    65.225712    49.078632   \n",
      "75%     110.382502   111.754999   109.202497   110.379997   104.974705   \n",
      "max     230.779999   233.470001   229.779999   232.070007   231.263092   \n",
      "\n",
      "             Volume  \n",
      "count  3.228000e+03  \n",
      "mean   1.223152e+08  \n",
      "std    1.001496e+08  \n",
      "min    1.147590e+07  \n",
      "25%    4.488038e+07  \n",
      "50%    9.700390e+07  \n",
      "75%    1.699789e+08  \n",
      "max    8.432424e+08  \n",
      "\n",
      "Stock Symbol:  IXIC\n",
      "Dataframe shape:  (3228, 7) \n",
      "\n",
      "         Date         Open         High          Low        Close  \\\n",
      "0  2006-02-22  2264.689941  2287.989990  2259.169922  2283.169922   \n",
      "1  2006-02-23  2279.590088  2293.739990  2271.820068  2279.320068   \n",
      "2  2006-02-24  2278.270020  2287.860107  2272.780029  2287.040039   \n",
      "3  2006-02-27  2291.479980  2313.530029  2291.239990  2307.179932   \n",
      "4  2006-02-28  2300.959961  2305.620117  2276.739990  2281.389893   \n",
      "\n",
      "     Adj Close      Volume  \n",
      "0  2283.169922  1824110000  \n",
      "1  2279.320068  1754200000  \n",
      "2  2287.040039  1583980000  \n",
      "3  2307.179932  1714420000  \n",
      "4  2281.389893  2120560000  \n",
      "\n",
      "              Open         High          Low        Close    Adj Close  \\\n",
      "count  3228.000000  3228.000000  3228.000000  3228.000000  3228.000000   \n",
      "mean   3725.343498  3746.631737  3701.456518  3725.604895  3725.604895   \n",
      "std    1693.042962  1698.881627  1685.884932  1692.615519  1692.615519   \n",
      "min    1284.839966  1316.150024  1265.520020  1268.640015  1268.640015   \n",
      "25%    2397.849914  2414.177490  2381.887512  2400.842468  2400.842468   \n",
      "50%    2988.295044  3000.859985  2973.594971  2988.145019  2988.145019   \n",
      "75%    4897.682373  4917.254883  4872.795166  4899.672486  4899.672486   \n",
      "max    8094.200195  8133.299805  8079.310059  8109.689941  8109.689941   \n",
      "\n",
      "             Volume  \n",
      "count  3.228000e+03  \n",
      "mean   1.992950e+09  \n",
      "std    4.106750e+08  \n",
      "min    0.000000e+00  \n",
      "25%    1.750100e+09  \n",
      "50%    1.942260e+09  \n",
      "75%    2.174892e+09  \n",
      "max    4.553600e+09  \n",
      "\n",
      "Stock Symbol:  NYA\n",
      "Dataframe shape:  (3228, 7) \n",
      "\n",
      "         Date         Open         High          Low        Close  \\\n",
      "0  2006-02-22  8082.640137  8131.720215  8081.740234  8128.200195   \n",
      "1  2006-02-23  8128.189941  8137.830078  8091.890137  8107.759766   \n",
      "2  2006-02-24  8107.759766  8140.500000  8106.529785  8126.029785   \n",
      "3  2006-02-27  8126.029785  8156.279785  8126.029785  8139.669922   \n",
      "4  2006-02-28  8139.640137  8139.640137  8046.979980  8060.609863   \n",
      "\n",
      "     Adj Close      Volume  \n",
      "0  8128.200195  2222380000  \n",
      "1  8107.759766  2144210000  \n",
      "2  8126.029785  1933010000  \n",
      "3  8139.669922  1975320000  \n",
      "4  8060.609863  2370860000  \n",
      "\n",
      "               Open          High           Low         Close     Adj Close  \\\n",
      "count   3228.000000   3228.000000   3228.000000   3228.000000   3228.000000   \n",
      "mean    9306.519804   9356.502371   9250.103406   9306.855383   9306.855383   \n",
      "std     1928.569187   1918.450178   1939.706854   1928.024108   1928.024108   \n",
      "min     4226.310059   4321.759766   4181.750000   4226.310059   4226.310059   \n",
      "25%     7992.027344   8033.364868   7929.830078   7978.947388   7978.947388   \n",
      "50%     9317.825196   9367.385254   9266.870117   9322.660156   9322.660156   \n",
      "75%    10742.140137  10781.932617  10695.614746  10745.359619  10745.359619   \n",
      "max    13592.799805  13637.019531  13539.200195  13637.019531  13637.019531   \n",
      "\n",
      "             Volume  \n",
      "count  3.228000e+03  \n",
      "mean   3.827792e+09  \n",
      "std    1.204508e+09  \n",
      "min    0.000000e+00  \n",
      "25%    3.136445e+09  \n",
      "50%    3.630920e+09  \n",
      "75%    4.298310e+09  \n",
      "max    1.145623e+10  \n",
      "\n",
      "Stock Symbol:  GSPC\n",
      "Dataframe shape:  (3228, 7) \n",
      "\n",
      "         Date         Open         High          Low        Close  \\\n",
      "0  2006-02-22  1283.030029  1294.170044  1283.030029  1292.670044   \n",
      "1  2006-02-23  1292.670044  1293.839966  1285.140015  1287.790039   \n",
      "2  2006-02-24  1287.790039  1292.109985  1285.619995  1289.430054   \n",
      "3  2006-02-27  1289.430054  1297.569946  1289.430054  1294.119995   \n",
      "4  2006-02-28  1294.119995  1294.119995  1278.660034  1280.660034   \n",
      "\n",
      "     Adj Close      Volume  \n",
      "0  1292.670044  2222380000  \n",
      "1  1287.790039  2144210000  \n",
      "2  1289.430054  1933010000  \n",
      "3  1294.119995  1975320000  \n",
      "4  1280.660034  2370860000  \n",
      "\n",
      "              Open         High          Low        Close    Adj Close  \\\n",
      "count  3228.000000  3228.000000  3228.000000  3228.000000  3228.000000   \n",
      "mean   1668.122347  1677.104911  1658.353581  1668.343252  1668.343252   \n",
      "std     533.927774   534.071706   533.527857   533.766549   533.766549   \n",
      "min     679.280029   695.270020   666.789978   676.530029   676.530029   \n",
      "25%    1279.200043  1286.674957  1270.692474  1279.322479  1279.322479   \n",
      "50%    1475.744995  1485.984985  1467.494995  1476.679993  1476.679993   \n",
      "75%    2071.927551  2079.687439  2060.662536  2071.320007  2071.320007   \n",
      "max    2936.760010  2940.909912  2927.110107  2930.750000  2930.750000   \n",
      "\n",
      "             Volume  \n",
      "count  3.228000e+03  \n",
      "mean   3.848185e+09  \n",
      "std    1.166229e+09  \n",
      "min    8.325500e+08  \n",
      "25%    3.143572e+09  \n",
      "50%    3.637065e+09  \n",
      "75%    4.299358e+09  \n",
      "max    1.145623e+10  \n",
      "\n",
      "Stock Symbol:  XAX\n",
      "Dataframe shape:  (3228, 7) \n",
      "\n",
      "         Date         Open         High          Low        Close  \\\n",
      "0  2006-02-22  1833.270020  1834.709961  1828.290039  1833.849976   \n",
      "1  2006-02-23  1833.849976  1835.520020  1825.119995  1828.839966   \n",
      "2  2006-02-24  1828.839966  1841.400024  1828.839966  1840.530029   \n",
      "3  2006-02-27  1840.530029  1840.780029  1828.300049  1839.530029   \n",
      "4  2006-02-28  1839.540039  1853.400024  1838.560059  1847.219971   \n",
      "\n",
      "     Adj Close  Volume  \n",
      "0  1833.849976  749900  \n",
      "1  1828.839966  779900  \n",
      "2  1840.530029  691900  \n",
      "3  1839.530029  739600  \n",
      "4  1847.219971  831100  \n",
      "\n",
      "              Open         High          Low        Close    Adj Close  \\\n",
      "count  3228.000000  3228.000000  3228.000000  3228.000000  3228.000000   \n",
      "mean   2245.802732  2258.873794  2228.426159  2245.891725  2245.891725   \n",
      "std     323.731786   321.683699   329.803221   323.465280   323.465280   \n",
      "min    1157.439941  1214.060059   823.200012  1157.479980  1157.479980   \n",
      "25%    2071.900024  2085.917480  2051.592468  2074.750061  2074.750061   \n",
      "50%    2331.625000  2343.820069  2317.164917  2331.424927  2331.424927   \n",
      "75%    2443.237426  2455.527527  2431.327515  2443.857544  2443.857544   \n",
      "max    2829.689941  2835.500000  2815.219971  2833.439941  2833.439941   \n",
      "\n",
      "             Volume  \n",
      "count  3.228000e+03  \n",
      "mean   1.520756e+05  \n",
      "std    2.240839e+05  \n",
      "min    0.000000e+00  \n",
      "25%    0.000000e+00  \n",
      "50%    0.000000e+00  \n",
      "75%    2.799250e+05  \n",
      "max    2.023500e+06  \n",
      "\n",
      "Stock Symbol:  SOX\n",
      "Dataframe shape:  (3228, 7) \n",
      "\n",
      "         Date        Open        High         Low       Close   Adj Close  \\\n",
      "0  2006-02-22  523.140015  533.409973  517.750000  530.780029  530.523315   \n",
      "1  2006-02-23  531.299988  531.299988  524.229980  524.479980  524.226318   \n",
      "2  2006-02-24  524.710022  527.780029  522.849976  524.549988  524.296326   \n",
      "3  2006-02-27  525.109985  529.289978  524.630005  527.390015  527.134949   \n",
      "4  2006-02-28  526.710022  531.109985  522.260010  523.190002  522.936951   \n",
      "\n",
      "   Volume  \n",
      "0       0  \n",
      "1       0  \n",
      "2       0  \n",
      "3       0  \n",
      "4       0  \n",
      "\n",
      "              Open         High          Low        Close    Adj Close  \\\n",
      "count  3228.000000  3228.000000  3228.000000  3228.000000  3228.000000   \n",
      "mean    582.904625   587.977859   577.502156   582.955390   582.856533   \n",
      "std     303.161359   304.898390   301.047028   303.119440   303.179176   \n",
      "min     174.339996   180.240005   167.550003   171.320007   171.237152   \n",
      "25%     376.822494   380.037491   372.187508   376.227501   376.045547   \n",
      "50%     472.134995   475.409988   468.950012   472.360000   472.245773   \n",
      "75%     672.085007   677.222489   666.812500   672.610001   672.610001   \n",
      "max    1454.750000  1464.609985  1437.079956  1445.900024  1445.900024   \n",
      "\n",
      "             Volume  \n",
      "count  3.228000e+03  \n",
      "mean   6.726369e+04  \n",
      "std    3.962416e+05  \n",
      "min    0.000000e+00  \n",
      "25%    0.000000e+00  \n",
      "50%    0.000000e+00  \n",
      "75%    0.000000e+00  \n",
      "max    3.802700e+06  \n",
      "\n",
      "Stock Symbol:  IXTC\n",
      "Dataframe shape:  (3228, 7) \n",
      "\n",
      "         Date        Open        High         Low       Close   Adj Close  \\\n",
      "0  2006-02-22  203.990005  206.960007  203.559998  205.199997  205.199997   \n",
      "1  2006-02-23  204.850006  205.800003  203.500000  204.130005  204.130005   \n",
      "2  2006-02-24  203.949997  206.020004  203.729996  205.899994  205.899994   \n",
      "3  2006-02-27  205.850006  207.759995  205.690002  207.339996  207.339996   \n",
      "4  2006-02-28  206.919998  207.419998  204.979996  206.529999  206.529999   \n",
      "\n",
      "   Volume  \n",
      "0       0  \n",
      "1       0  \n",
      "2       0  \n",
      "3       0  \n",
      "4       0  \n",
      "\n",
      "              Open         High          Low        Close    Adj Close  Volume\n",
      "count  3228.000000  3228.000000  3228.000000  3228.000000  3228.000000  3228.0\n",
      "mean    244.726465   246.527370   242.833761   244.745440   244.745440     0.0\n",
      "std      51.414300    51.395743    51.388850    51.373899    51.373899     0.0\n",
      "min     127.629997   131.009995   122.379997   124.870003   124.870003     0.0\n",
      "25%     210.257496   211.619995   208.877503   210.300003   210.300003     0.0\n",
      "50%     238.520004   240.104996   236.259995   238.274994   238.274994     0.0\n",
      "75%     269.145012   270.797501   267.430007   269.410004   269.410004     0.0\n",
      "max     396.359985   396.679993   394.010010   394.589996   394.589996     0.0\n",
      "\n",
      "Stock Symbol:  IXCO\n",
      "Dataframe shape:  (3228, 7) \n",
      "\n"
     ]
    },
    {
     "name": "stdout",
     "output_type": "stream",
     "text": [
      "         Date         Open         High         Low        Close    Adj Close  \\\n",
      "0  2006-02-22   987.039978   997.940002  982.719971   995.059998   995.059998   \n",
      "1  2006-02-23   994.169983  1001.719971  991.140015   994.270020   994.270020   \n",
      "2  2006-02-24   993.210022   996.780029  990.619995   994.460022   994.460022   \n",
      "3  2006-02-27   997.799988  1008.419983  997.799988  1004.140015  1004.140015   \n",
      "4  2006-02-28  1002.669983  1009.109985  989.859985   991.200012   991.200012   \n",
      "\n",
      "   Volume  \n",
      "0       0  \n",
      "1       0  \n",
      "2       0  \n",
      "3       0  \n",
      "4       0  \n",
      "\n",
      "              Open         High          Low        Close    Adj Close  Volume\n",
      "count  3228.000000  3228.000000  3228.000000  3228.000000  3228.000000  3228.0\n",
      "mean   1948.797850  1961.743711  1934.983449  1949.115841  1949.115841     0.0\n",
      "std    1057.893441  1063.565150  1051.534036  1057.948043  1057.948043     0.0\n",
      "min     596.450012   613.739990   582.760010   586.380005   586.380005     0.0\n",
      "25%    1118.944977  1127.444977  1110.869965  1118.512512  1118.512512     0.0\n",
      "50%    1570.190002  1580.324951  1561.700012  1569.419983  1569.419983     0.0\n",
      "75%    2520.102539  2535.702453  2505.069946  2522.695007  2522.695007     0.0\n",
      "max    4855.450195  4891.399902  4843.390137  4862.459961  4862.459961     0.0\n",
      "\n",
      "Stock Symbol:  NDXT\n",
      "Dataframe shape:  (3228, 7) \n",
      "\n",
      "         Date         Open         High          Low        Close  \\\n",
      "0  2006-02-22  1000.859985  1015.890015   996.919983  1012.979980   \n",
      "1  2006-02-23  1010.929993  1018.809998  1008.489990  1009.190002   \n",
      "2  2006-02-24  1008.989990  1014.909973  1006.609985  1012.070007   \n",
      "3  2006-02-27  1013.609985  1024.569946  1012.869995  1021.070007   \n",
      "4  2006-02-28  1019.169983  1024.339966  1006.909973  1009.840027   \n",
      "\n",
      "     Adj Close  Volume  \n",
      "0  1012.979980     0.0  \n",
      "1  1009.190002     0.0  \n",
      "2  1012.070007     0.0  \n",
      "3  1021.070007     0.0  \n",
      "4  1009.840027     0.0  \n",
      "\n",
      "              Open         High          Low        Close    Adj Close  Volume\n",
      "count  3225.000000  3225.000000  3225.000000  3225.000000  3225.000000  3225.0\n",
      "mean   1859.737530  1872.738753  1845.892005  1860.238456  1860.238456     0.0\n",
      "std    1000.870651  1005.740068   995.174490  1000.837658  1000.837658     0.0\n",
      "min     535.960022   552.580017   516.219971   525.919983   525.919983     0.0\n",
      "25%    1114.229980  1122.540039  1104.250000  1113.199951  1113.199951     0.0\n",
      "50%    1450.489990  1459.260010  1440.410034  1452.160034  1452.160034     0.0\n",
      "75%    2325.760010  2345.340088  2312.300049  2332.760010  2332.760010     0.0\n",
      "max    4526.379883  4544.459961  4476.649902  4496.589844  4496.589844     0.0\n",
      "\n",
      "Stock Symbol:  NDXX\n",
      "Dataframe shape:  (3230, 7) \n",
      "\n",
      "         Date         Open         High          Low        Close  \\\n",
      "0  2006-02-22  1002.630005  1017.179993  1001.090027  1014.320007   \n",
      "1  2006-02-23  1012.630005  1019.099976  1008.739990  1011.840027   \n",
      "2  2006-02-24  1011.960022  1016.539978  1008.969971  1016.489990   \n",
      "3  2006-02-27  1020.169983  1031.439941  1019.330017  1029.739990   \n",
      "4  2006-02-28  1024.880005  1025.089966  1011.739990  1015.429993   \n",
      "\n",
      "     Adj Close  Volume  \n",
      "0  1014.320007     0.0  \n",
      "1  1011.840027     0.0  \n",
      "2  1016.489990     0.0  \n",
      "3  1029.739990     0.0  \n",
      "4  1015.429993     0.0  \n",
      "\n",
      "              Open         High          Low        Close    Adj Close  Volume\n",
      "count  3225.000000  3225.000000  3225.000000  3225.000000  3225.000000  3225.0\n",
      "mean   1703.258967  1713.136619  1692.194185  1703.454719  1703.454719     0.0\n",
      "std     708.065228   709.636926   705.836021   707.747931   707.747931     0.0\n",
      "min     569.369995   583.169983   549.599976   560.989990   560.989990     0.0\n",
      "25%    1100.400024  1109.680054  1092.900024  1102.400024  1102.400024     0.0\n",
      "50%    1384.670044  1389.979980  1375.640015  1385.109985  1385.109985     0.0\n",
      "75%    2362.489990  2374.879883  2352.209961  2366.159912  2366.159912     0.0\n",
      "max    3158.239990  3161.760010  3143.739990  3147.110107  3147.110107     0.0\n",
      "\n"
     ]
    }
   ],
   "source": [
    "# read all stock history data\n",
    "df_list = []\n",
    "for input_stock_symbol  in stock_list:\n",
    "    inputfile  = input_stock_symbol + \".csv\"\n",
    "    outputfile  = \"fixed_\" + input_stock_symbol + \".csv\"\n",
    "    read_write_file(\".\\\\Data\\\\\" + inputfile, \".\\\\Data\\\\\" + outputfile )\n",
    "    df_name =  \"df_\" + input_stock_symbol.lower()\n",
    "\n",
    "    df_name = pd.read_csv(\".\\\\Data\\\\\" + outputfile) # deleted 6 rows with ? unknown data\n",
    "    df_list.append(df_name)\n",
    "    print(\"Stock Symbol: \", input_stock_symbol)\n",
    "    print(\"Dataframe shape: \",df_name.shape,\"\\n\") # 392 rows + header\n",
    "    print(df_name.head())\n",
    "    print(\"\")\n",
    "    print(df_name.describe())\n",
    "    print(\"\")\n"
   ]
  },
  {
   "cell_type": "code",
   "execution_count": 106,
   "metadata": {},
   "outputs": [
    {
     "name": "stdout",
     "output_type": "stream",
     "text": [
      "(3228, 2)\n",
      "(3228, 2)\n",
      "(3228, 2)\n",
      "(3228, 2)\n",
      "(3228, 2)\n",
      "(3228, 2)\n",
      "(3228, 2)\n",
      "(3228, 2)\n",
      "(3228, 2)\n",
      "(3230, 2)\n"
     ]
    }
   ],
   "source": [
    "# Onley keep Adj Close data\n",
    "df_list_2 = []\n",
    "for df_name in df_list:\n",
    "    df_name = df_name.drop(\"Open\",axis=1)\n",
    "    df_name = df_name.drop(\"High\",axis=1)\n",
    "    df_name = df_name.drop(\"Low\",axis=1)\n",
    "    df_name = df_name.drop(\"Close\",axis=1)\n",
    "    df_name = df_name.drop(\"Volume\",axis=1)\n",
    "    df_list_2.append(df_name)\n",
    "    print(df_name.shape)    "
   ]
  },
  {
   "cell_type": "code",
   "execution_count": 107,
   "metadata": {},
   "outputs": [
    {
     "name": "stdout",
     "output_type": "stream",
     "text": [
      "         Date  Adj Close\n",
      "0  2006-02-22   6.822909\n",
      "1  2006-02-23   6.864043\n",
      "2  2006-02-24   6.836300\n",
      "3  2006-02-27   6.791339\n",
      "4  2006-02-28   6.552172\n",
      "         Date    Adj Close\n",
      "0  2006-02-22  2283.169922\n",
      "1  2006-02-23  2279.320068\n",
      "2  2006-02-24  2287.040039\n",
      "3  2006-02-27  2307.179932\n",
      "4  2006-02-28  2281.389893\n"
     ]
    }
   ],
   "source": [
    "print(df_list_2[0].head())\n",
    "print(df_list_2[1].head())"
   ]
  },
  {
   "cell_type": "code",
   "execution_count": 108,
   "metadata": {},
   "outputs": [],
   "source": [
    "# merge all history data to one data frame\n",
    "df_merged =  df_list_2[0][\"Adj Close\"]\n",
    "for i in range(1, len(df_list_2)):\n",
    "    df_merged = pd.concat([df_merged, df_list_2[i][\"Adj Close\"]], axis=1)\n",
    "df_merged.columns= stock_list    "
   ]
  },
  {
   "cell_type": "code",
   "execution_count": 109,
   "metadata": {},
   "outputs": [
    {
     "name": "stdout",
     "output_type": "stream",
     "text": [
      "[[0.00872513 0.14830032 0.41462231 ... 0.09557352 0.12266444 0.17529349]\n",
      " [0.00890681 0.14773756 0.41245027 ... 0.09538877 0.12170995 0.17433453]\n",
      " [0.00878428 0.14886604 0.41439168 ... 0.09543321 0.12243527 0.17613258]\n",
      " ...\n",
      " [0.70265713 0.80179066 0.77632936 ... 0.79016997 0.81303662 0.84780286]\n",
      " [       nan        nan        nan ...        nan        nan 0.84304668]\n",
      " [       nan        nan        nan ...        nan        nan 0.8259361 ]]\n",
      "\n"
     ]
    }
   ],
   "source": [
    "# Normalizing\n",
    "float_array = df_merged.values.astype(float)\n",
    "min_max_scaler = preprocessing.MinMaxScaler()\n",
    "scaled_array = min_max_scaler.fit_transform(float_array)\n",
    "print (scaled_array)   \n",
    "print(\"\")"
   ]
  },
  {
   "cell_type": "code",
   "execution_count": 110,
   "metadata": {},
   "outputs": [
    {
     "name": "stdout",
     "output_type": "stream",
     "text": [
      "\n",
      "Dataframe shape:  (3230, 10) \n",
      "\n",
      "       AAPL      IXIC       NYA      GSPC       XAX       SOX      IXTC  \\\n",
      "0  0.008725  0.148300  0.414622  0.273327  0.403572  0.281868  0.297827   \n",
      "1  0.008907  0.147738  0.412450  0.271163  0.400582  0.276927  0.293860   \n",
      "2  0.008784  0.148866  0.414392  0.271890  0.407557  0.276982  0.300423   \n",
      "3  0.008586  0.151810  0.415841  0.273971  0.406961  0.279209  0.305762   \n",
      "4  0.007529  0.148040  0.407440  0.268000  0.411549  0.275916  0.302758   \n",
      "5  0.007787  0.152900  0.414880  0.272693  0.430094  0.293700  0.324892   \n",
      "6  0.008003  0.152385  0.414445  0.271761  0.435446  0.294030  0.324151   \n",
      "7  0.007204  0.151141  0.413741  0.270914  0.441526  0.287357  0.328229   \n",
      "8  0.006258  0.148718  0.408166  0.266935  0.437129  0.280135  0.329527   \n",
      "9  0.006608  0.146138  0.402844  0.265879  0.426687  0.268271  0.324188   \n",
      "\n",
      "       IXCO      NDXT      NDXX  \n",
      "0  0.095574  0.122664  0.175293  \n",
      "1  0.095389  0.121710  0.174335  \n",
      "2  0.095433  0.122435  0.176133  \n",
      "3  0.097697  0.124702  0.181256  \n",
      "4  0.094671  0.121874  0.175723  \n",
      "5  0.098887  0.128263  0.179145  \n",
      "6  0.098508  0.128895  0.178665  \n",
      "7  0.097253  0.128527  0.176701  \n",
      "8  0.095120  0.125198  0.174311  \n",
      "9  0.093366  0.122153  0.172119  \n",
      "\n",
      "          AAPL      IXIC       NYA      GSPC       XAX       SOX      IXTC  \\\n",
      "3220  0.750269  0.865309  0.841392  0.895840  0.756217  0.809306  0.957437   \n",
      "3221  0.722753  0.833295  0.819877  0.867950  0.757196  0.774026  0.909721   \n",
      "3222  0.727655  0.840789  0.814283  0.870008  0.738729  0.786838  0.917878   \n",
      "3223  0.723371  0.842442  0.811240  0.869591  0.731652  0.792557  0.920992   \n",
      "3224  0.725447  0.852160  0.820021  0.875931  0.746080  0.806223  0.934488   \n",
      "3225  0.733618  0.848070  0.819263  0.875695  0.733675  0.802842  0.931522   \n",
      "3226  0.709459  0.824730  0.800053  0.853253  0.708108  0.789489  0.894706   \n",
      "3227  0.702657  0.801791  0.776329  0.829293  0.692875  0.777635  0.854775   \n",
      "3228       NaN       NaN       NaN       NaN       NaN       NaN       NaN   \n",
      "3229       NaN       NaN       NaN       NaN       NaN       NaN       NaN   \n",
      "\n",
      "          IXCO      NDXT      NDXX  \n",
      "3220  0.839514  0.863466  0.913036  \n",
      "3221  0.805668  0.828762  0.879217  \n",
      "3222  0.819772  0.839692  0.883652  \n",
      "3223  0.822906  0.844258  0.885326  \n",
      "3224  0.832494  0.857364  0.896037  \n",
      "3225  0.834199  0.854941  0.888799  \n",
      "3226  0.811772  0.834091  0.867493  \n",
      "3227  0.790170  0.813037  0.847803  \n",
      "3228       NaN       NaN  0.843047  \n",
      "3229       NaN       NaN  0.825936  \n",
      "\n"
     ]
    }
   ],
   "source": [
    "# Normalizing\n",
    "float_array = df_merged.values.astype(float)\n",
    "min_max_scaler = preprocessing.MinMaxScaler()\n",
    "scaled_array = min_max_scaler.fit_transform(float_array)\n",
    "df_name_normalized = pd.DataFrame(scaled_array)\n",
    "df_name_normalized.columns= stock_list   \n",
    "print (\"\")\n",
    "print(\"Dataframe shape: \",df_name_normalized.shape,\"\\n\") # 392 rows, 7 columns + header\n",
    "print(df_name_normalized[0:10])\n",
    "print (\"\")\n",
    "print(df_name_normalized[-10:])\n",
    "print (\"\")"
   ]
  },
  {
   "cell_type": "code",
   "execution_count": 111,
   "metadata": {},
   "outputs": [
    {
     "name": "stderr",
     "output_type": "stream",
     "text": [
      "c:\\users\\william chang\\appdata\\local\\programs\\python\\python37\\lib\\site-packages\\IPython\\core\\interactiveshell.py:3267: UserWarning: To output multiple subplots, the figure containing the passed axes is being cleared\n",
      "  exec(code_obj, self.user_global_ns, self.user_ns)\n"
     ]
    },
    {
     "data": {
      "text/plain": [
       "array([[<matplotlib.axes._subplots.AxesSubplot object at 0x0000000020634B00>,\n",
       "        <matplotlib.axes._subplots.AxesSubplot object at 0x0000000019E8E710>,\n",
       "        <matplotlib.axes._subplots.AxesSubplot object at 0x0000000018DAE080>],\n",
       "       [<matplotlib.axes._subplots.AxesSubplot object at 0x000000001CA58A58>,\n",
       "        <matplotlib.axes._subplots.AxesSubplot object at 0x00000000066B97B8>,\n",
       "        <matplotlib.axes._subplots.AxesSubplot object at 0x0000000020B3D208>],\n",
       "       [<matplotlib.axes._subplots.AxesSubplot object at 0x0000000020A3A470>,\n",
       "        <matplotlib.axes._subplots.AxesSubplot object at 0x0000000006900710>,\n",
       "        <matplotlib.axes._subplots.AxesSubplot object at 0x0000000006900748>],\n",
       "       [<matplotlib.axes._subplots.AxesSubplot object at 0x00000000068B6BA8>,\n",
       "        <matplotlib.axes._subplots.AxesSubplot object at 0x00000000066B1E10>,\n",
       "        <matplotlib.axes._subplots.AxesSubplot object at 0x000000001C9FD0B8>]],\n",
       "      dtype=object)"
      ]
     },
     "execution_count": 111,
     "metadata": {},
     "output_type": "execute_result"
    },
    {
     "data": {
      "image/png": "[encoded data removed]",
      "text/plain": [
       "<Figure size 720x720 with 12 Axes>"
      ]
     },
     "metadata": {
      "needs_background": "light"
     },
     "output_type": "display_data"
    }
   ],
   "source": [
    "fig = plt.figure(figsize = (10,10))\n",
    "ax = fig.gca()\n",
    "df_merged.hist(ax = ax)"
   ]
  },
  {
   "cell_type": "code",
   "execution_count": 112,
   "metadata": {},
   "outputs": [
    {
     "data": {
      "text/plain": [
       "array([[<matplotlib.axes._subplots.AxesSubplot object at 0x0000000020583160>,\n",
       "        <matplotlib.axes._subplots.AxesSubplot object at 0x0000000020E04C88>,\n",
       "        <matplotlib.axes._subplots.AxesSubplot object at 0x0000000020B70EF0>],\n",
       "       [<matplotlib.axes._subplots.AxesSubplot object at 0x0000000020BA1198>,\n",
       "        <matplotlib.axes._subplots.AxesSubplot object at 0x0000000020BC9400>,\n",
       "        <matplotlib.axes._subplots.AxesSubplot object at 0x0000000020BF3668>],\n",
       "       [<matplotlib.axes._subplots.AxesSubplot object at 0x0000000020C1E0F0>,\n",
       "        <matplotlib.axes._subplots.AxesSubplot object at 0x0000000020C48390>,\n",
       "        <matplotlib.axes._subplots.AxesSubplot object at 0x0000000020C483C8>],\n",
       "       [<matplotlib.axes._subplots.AxesSubplot object at 0x0000000020C99828>,\n",
       "        <matplotlib.axes._subplots.AxesSubplot object at 0x0000000020CC2A90>,\n",
       "        <matplotlib.axes._subplots.AxesSubplot object at 0x0000000020CECCF8>]],\n",
       "      dtype=object)"
      ]
     },
     "execution_count": 112,
     "metadata": {},
     "output_type": "execute_result"
    },
    {
     "data": {
      "image/png": "[encoded data removed]",
      "text/plain": [
       "<Figure size 720x720 with 12 Axes>"
      ]
     },
     "metadata": {
      "needs_background": "light"
     },
     "output_type": "display_data"
    }
   ],
   "source": [
    "fig = plt.figure(figsize = (10,10))\n",
    "ax = fig.gca()\n",
    "df_name_normalized.hist(ax = ax)"
   ]
  },
  {
   "cell_type": "code",
   "execution_count": 113,
   "metadata": {},
   "outputs": [],
   "source": [
    "def correlation_matrix(df):\n",
    "    fig = plt.figure()\n",
    "    ax1 = fig.add_subplot(111)\n",
    "    cmap = cm.get_cmap('jet', 30)\n",
    "#    labels = [\"m\",\"mpg\",\"cylinders\",\"displacement\",\"horsepower\",\"weight\",\"acceleration\",\"year\"]\n",
    "    labels = stock_list\n",
    "    cax = ax1.imshow(df.corr(), interpolation=\"nearest\", cmap=cmap)\n",
    "#    cax = ax1.imshow(df.corr(), interpolation=\"none\", cmap=cmap)\n",
    "    ax1.grid(True)\n",
    "    ax1.set_xticklabels(labels,fontsize=6)\n",
    "    ax1.set_yticklabels(labels,fontsize=6)\n",
    "    ax1.set_xticks(np.arange(len(labels)))\n",
    "    ax1.set_yticks(np.arange(len(labels)))\n",
    "    # Add colorbar, make sure to specify tick locations to match desired ticklabels\n",
    "    fig.colorbar(cax, ticks=[.50,.75,.8,.85,.90,.95,1])\n",
    "    plt.show()"
   ]
  },
  {
   "cell_type": "code",
   "execution_count": 114,
   "metadata": {},
   "outputs": [
    {
     "data": {
      "text/html": [
       "<div>\n",
       "<style scoped>\n",
       "    .dataframe tbody tr th:only-of-type {\n",
       "        vertical-align: middle;\n",
       "    }\n",
       "\n",
       "    .dataframe tbody tr th {\n",
       "        vertical-align: top;\n",
       "    }\n",
       "\n",
       "    .dataframe thead th {\n",
       "        text-align: right;\n",
       "    }\n",
       "</style>\n",
       "<table border=\"1\" class=\"dataframe\">\n",
       "  <thead>\n",
       "    <tr style=\"text-align: right;\">\n",
       "      <th></th>\n",
       "      <th>AAPL</th>\n",
       "      <th>IXIC</th>\n",
       "      <th>NYA</th>\n",
       "      <th>GSPC</th>\n",
       "      <th>XAX</th>\n",
       "      <th>SOX</th>\n",
       "      <th>IXTC</th>\n",
       "      <th>IXCO</th>\n",
       "      <th>NDXT</th>\n",
       "      <th>NDXX</th>\n",
       "    </tr>\n",
       "  </thead>\n",
       "  <tbody>\n",
       "    <tr>\n",
       "      <th>AAPL</th>\n",
       "      <td>1.000000</td>\n",
       "      <td>0.982364</td>\n",
       "      <td>0.839587</td>\n",
       "      <td>0.947259</td>\n",
       "      <td>0.666619</td>\n",
       "      <td>0.926646</td>\n",
       "      <td>0.834593</td>\n",
       "      <td>0.986379</td>\n",
       "      <td>0.974202</td>\n",
       "      <td>0.961134</td>\n",
       "    </tr>\n",
       "    <tr>\n",
       "      <th>IXIC</th>\n",
       "      <td>0.982364</td>\n",
       "      <td>1.000000</td>\n",
       "      <td>0.909428</td>\n",
       "      <td>0.985757</td>\n",
       "      <td>0.709594</td>\n",
       "      <td>0.960351</td>\n",
       "      <td>0.894921</td>\n",
       "      <td>0.993803</td>\n",
       "      <td>0.989767</td>\n",
       "      <td>0.981643</td>\n",
       "    </tr>\n",
       "    <tr>\n",
       "      <th>NYA</th>\n",
       "      <td>0.839587</td>\n",
       "      <td>0.909428</td>\n",
       "      <td>1.000000</td>\n",
       "      <td>0.961857</td>\n",
       "      <td>0.837928</td>\n",
       "      <td>0.889449</td>\n",
       "      <td>0.926779</td>\n",
       "      <td>0.875040</td>\n",
       "      <td>0.881173</td>\n",
       "      <td>0.915925</td>\n",
       "    </tr>\n",
       "    <tr>\n",
       "      <th>GSPC</th>\n",
       "      <td>0.947259</td>\n",
       "      <td>0.985757</td>\n",
       "      <td>0.961857</td>\n",
       "      <td>1.000000</td>\n",
       "      <td>0.758511</td>\n",
       "      <td>0.951530</td>\n",
       "      <td>0.916676</td>\n",
       "      <td>0.966704</td>\n",
       "      <td>0.965317</td>\n",
       "      <td>0.978752</td>\n",
       "    </tr>\n",
       "    <tr>\n",
       "      <th>XAX</th>\n",
       "      <td>0.666619</td>\n",
       "      <td>0.709594</td>\n",
       "      <td>0.837928</td>\n",
       "      <td>0.758511</td>\n",
       "      <td>1.000000</td>\n",
       "      <td>0.645709</td>\n",
       "      <td>0.710600</td>\n",
       "      <td>0.684913</td>\n",
       "      <td>0.681814</td>\n",
       "      <td>0.740822</td>\n",
       "    </tr>\n",
       "    <tr>\n",
       "      <th>SOX</th>\n",
       "      <td>0.926646</td>\n",
       "      <td>0.960351</td>\n",
       "      <td>0.889449</td>\n",
       "      <td>0.951530</td>\n",
       "      <td>0.645709</td>\n",
       "      <td>1.000000</td>\n",
       "      <td>0.922880</td>\n",
       "      <td>0.967724</td>\n",
       "      <td>0.979583</td>\n",
       "      <td>0.902227</td>\n",
       "    </tr>\n",
       "    <tr>\n",
       "      <th>IXTC</th>\n",
       "      <td>0.834593</td>\n",
       "      <td>0.894921</td>\n",
       "      <td>0.926779</td>\n",
       "      <td>0.916676</td>\n",
       "      <td>0.710600</td>\n",
       "      <td>0.922880</td>\n",
       "      <td>1.000000</td>\n",
       "      <td>0.885371</td>\n",
       "      <td>0.898904</td>\n",
       "      <td>0.852918</td>\n",
       "    </tr>\n",
       "    <tr>\n",
       "      <th>IXCO</th>\n",
       "      <td>0.986379</td>\n",
       "      <td>0.993803</td>\n",
       "      <td>0.875040</td>\n",
       "      <td>0.966704</td>\n",
       "      <td>0.684913</td>\n",
       "      <td>0.967724</td>\n",
       "      <td>0.885371</td>\n",
       "      <td>1.000000</td>\n",
       "      <td>0.996244</td>\n",
       "      <td>0.958929</td>\n",
       "    </tr>\n",
       "    <tr>\n",
       "      <th>NDXT</th>\n",
       "      <td>0.974202</td>\n",
       "      <td>0.989767</td>\n",
       "      <td>0.881173</td>\n",
       "      <td>0.965317</td>\n",
       "      <td>0.681814</td>\n",
       "      <td>0.979583</td>\n",
       "      <td>0.898904</td>\n",
       "      <td>0.996244</td>\n",
       "      <td>1.000000</td>\n",
       "      <td>0.951481</td>\n",
       "    </tr>\n",
       "    <tr>\n",
       "      <th>NDXX</th>\n",
       "      <td>0.961134</td>\n",
       "      <td>0.981643</td>\n",
       "      <td>0.915925</td>\n",
       "      <td>0.978752</td>\n",
       "      <td>0.740822</td>\n",
       "      <td>0.902227</td>\n",
       "      <td>0.852918</td>\n",
       "      <td>0.958929</td>\n",
       "      <td>0.951481</td>\n",
       "      <td>1.000000</td>\n",
       "    </tr>\n",
       "  </tbody>\n",
       "</table>\n",
       "</div>"
      ],
      "text/plain": [
       "          AAPL      IXIC       NYA      GSPC       XAX       SOX      IXTC  \\\n",
       "AAPL  1.000000  0.982364  0.839587  0.947259  0.666619  0.926646  0.834593   \n",
       "IXIC  0.982364  1.000000  0.909428  0.985757  0.709594  0.960351  0.894921   \n",
       "NYA   0.839587  0.909428  1.000000  0.961857  0.837928  0.889449  0.926779   \n",
       "GSPC  0.947259  0.985757  0.961857  1.000000  0.758511  0.951530  0.916676   \n",
       "XAX   0.666619  0.709594  0.837928  0.758511  1.000000  0.645709  0.710600   \n",
       "SOX   0.926646  0.960351  0.889449  0.951530  0.645709  1.000000  0.922880   \n",
       "IXTC  0.834593  0.894921  0.926779  0.916676  0.710600  0.922880  1.000000   \n",
       "IXCO  0.986379  0.993803  0.875040  0.966704  0.684913  0.967724  0.885371   \n",
       "NDXT  0.974202  0.989767  0.881173  0.965317  0.681814  0.979583  0.898904   \n",
       "NDXX  0.961134  0.981643  0.915925  0.978752  0.740822  0.902227  0.852918   \n",
       "\n",
       "          IXCO      NDXT      NDXX  \n",
       "AAPL  0.986379  0.974202  0.961134  \n",
       "IXIC  0.993803  0.989767  0.981643  \n",
       "NYA   0.875040  0.881173  0.915925  \n",
       "GSPC  0.966704  0.965317  0.978752  \n",
       "XAX   0.684913  0.681814  0.740822  \n",
       "SOX   0.967724  0.979583  0.902227  \n",
       "IXTC  0.885371  0.898904  0.852918  \n",
       "IXCO  1.000000  0.996244  0.958929  \n",
       "NDXT  0.996244  1.000000  0.951481  \n",
       "NDXX  0.958929  0.951481  1.000000  "
      ]
     },
     "execution_count": 114,
     "metadata": {},
     "output_type": "execute_result"
    }
   ],
   "source": [
    "df_merged.corr()"
   ]
  },
  {
   "cell_type": "code",
   "execution_count": 115,
   "metadata": {},
   "outputs": [
    {
     "data": {
      "image/png": "[encoded data removed]",
      "text/plain": [
       "<Figure size 432x288 with 2 Axes>"
      ]
     },
     "metadata": {
      "needs_background": "light"
     },
     "output_type": "display_data"
    }
   ],
   "source": [
    "correlation_matrix(df_merged) # original data\n"
   ]
  },
  {
   "cell_type": "code",
   "execution_count": 116,
   "metadata": {},
   "outputs": [
    {
     "data": {
      "text/html": [
       "<div>\n",
       "<style scoped>\n",
       "    .dataframe tbody tr th:only-of-type {\n",
       "        vertical-align: middle;\n",
       "    }\n",
       "\n",
       "    .dataframe tbody tr th {\n",
       "        vertical-align: top;\n",
       "    }\n",
       "\n",
       "    .dataframe thead th {\n",
       "        text-align: right;\n",
       "    }\n",
       "</style>\n",
       "<table border=\"1\" class=\"dataframe\">\n",
       "  <thead>\n",
       "    <tr style=\"text-align: right;\">\n",
       "      <th></th>\n",
       "      <th>AAPL</th>\n",
       "      <th>IXIC</th>\n",
       "      <th>NYA</th>\n",
       "      <th>GSPC</th>\n",
       "      <th>XAX</th>\n",
       "      <th>SOX</th>\n",
       "      <th>IXTC</th>\n",
       "      <th>IXCO</th>\n",
       "      <th>NDXT</th>\n",
       "      <th>NDXX</th>\n",
       "    </tr>\n",
       "  </thead>\n",
       "  <tbody>\n",
       "    <tr>\n",
       "      <th>AAPL</th>\n",
       "      <td>1.000000</td>\n",
       "      <td>0.982364</td>\n",
       "      <td>0.839587</td>\n",
       "      <td>0.947259</td>\n",
       "      <td>0.666619</td>\n",
       "      <td>0.926646</td>\n",
       "      <td>0.834593</td>\n",
       "      <td>0.986379</td>\n",
       "      <td>0.974202</td>\n",
       "      <td>0.961134</td>\n",
       "    </tr>\n",
       "    <tr>\n",
       "      <th>IXIC</th>\n",
       "      <td>0.982364</td>\n",
       "      <td>1.000000</td>\n",
       "      <td>0.909428</td>\n",
       "      <td>0.985757</td>\n",
       "      <td>0.709594</td>\n",
       "      <td>0.960351</td>\n",
       "      <td>0.894921</td>\n",
       "      <td>0.993803</td>\n",
       "      <td>0.989767</td>\n",
       "      <td>0.981643</td>\n",
       "    </tr>\n",
       "    <tr>\n",
       "      <th>NYA</th>\n",
       "      <td>0.839587</td>\n",
       "      <td>0.909428</td>\n",
       "      <td>1.000000</td>\n",
       "      <td>0.961857</td>\n",
       "      <td>0.837928</td>\n",
       "      <td>0.889449</td>\n",
       "      <td>0.926779</td>\n",
       "      <td>0.875040</td>\n",
       "      <td>0.881173</td>\n",
       "      <td>0.915925</td>\n",
       "    </tr>\n",
       "    <tr>\n",
       "      <th>GSPC</th>\n",
       "      <td>0.947259</td>\n",
       "      <td>0.985757</td>\n",
       "      <td>0.961857</td>\n",
       "      <td>1.000000</td>\n",
       "      <td>0.758511</td>\n",
       "      <td>0.951530</td>\n",
       "      <td>0.916676</td>\n",
       "      <td>0.966704</td>\n",
       "      <td>0.965317</td>\n",
       "      <td>0.978752</td>\n",
       "    </tr>\n",
       "    <tr>\n",
       "      <th>XAX</th>\n",
       "      <td>0.666619</td>\n",
       "      <td>0.709594</td>\n",
       "      <td>0.837928</td>\n",
       "      <td>0.758511</td>\n",
       "      <td>1.000000</td>\n",
       "      <td>0.645709</td>\n",
       "      <td>0.710600</td>\n",
       "      <td>0.684913</td>\n",
       "      <td>0.681814</td>\n",
       "      <td>0.740822</td>\n",
       "    </tr>\n",
       "    <tr>\n",
       "      <th>SOX</th>\n",
       "      <td>0.926646</td>\n",
       "      <td>0.960351</td>\n",
       "      <td>0.889449</td>\n",
       "      <td>0.951530</td>\n",
       "      <td>0.645709</td>\n",
       "      <td>1.000000</td>\n",
       "      <td>0.922880</td>\n",
       "      <td>0.967724</td>\n",
       "      <td>0.979583</td>\n",
       "      <td>0.902227</td>\n",
       "    </tr>\n",
       "    <tr>\n",
       "      <th>IXTC</th>\n",
       "      <td>0.834593</td>\n",
       "      <td>0.894921</td>\n",
       "      <td>0.926779</td>\n",
       "      <td>0.916676</td>\n",
       "      <td>0.710600</td>\n",
       "      <td>0.922880</td>\n",
       "      <td>1.000000</td>\n",
       "      <td>0.885371</td>\n",
       "      <td>0.898904</td>\n",
       "      <td>0.852918</td>\n",
       "    </tr>\n",
       "    <tr>\n",
       "      <th>IXCO</th>\n",
       "      <td>0.986379</td>\n",
       "      <td>0.993803</td>\n",
       "      <td>0.875040</td>\n",
       "      <td>0.966704</td>\n",
       "      <td>0.684913</td>\n",
       "      <td>0.967724</td>\n",
       "      <td>0.885371</td>\n",
       "      <td>1.000000</td>\n",
       "      <td>0.996244</td>\n",
       "      <td>0.958929</td>\n",
       "    </tr>\n",
       "    <tr>\n",
       "      <th>NDXT</th>\n",
       "      <td>0.974202</td>\n",
       "      <td>0.989767</td>\n",
       "      <td>0.881173</td>\n",
       "      <td>0.965317</td>\n",
       "      <td>0.681814</td>\n",
       "      <td>0.979583</td>\n",
       "      <td>0.898904</td>\n",
       "      <td>0.996244</td>\n",
       "      <td>1.000000</td>\n",
       "      <td>0.951481</td>\n",
       "    </tr>\n",
       "    <tr>\n",
       "      <th>NDXX</th>\n",
       "      <td>0.961134</td>\n",
       "      <td>0.981643</td>\n",
       "      <td>0.915925</td>\n",
       "      <td>0.978752</td>\n",
       "      <td>0.740822</td>\n",
       "      <td>0.902227</td>\n",
       "      <td>0.852918</td>\n",
       "      <td>0.958929</td>\n",
       "      <td>0.951481</td>\n",
       "      <td>1.000000</td>\n",
       "    </tr>\n",
       "  </tbody>\n",
       "</table>\n",
       "</div>"
      ],
      "text/plain": [
       "          AAPL      IXIC       NYA      GSPC       XAX       SOX      IXTC  \\\n",
       "AAPL  1.000000  0.982364  0.839587  0.947259  0.666619  0.926646  0.834593   \n",
       "IXIC  0.982364  1.000000  0.909428  0.985757  0.709594  0.960351  0.894921   \n",
       "NYA   0.839587  0.909428  1.000000  0.961857  0.837928  0.889449  0.926779   \n",
       "GSPC  0.947259  0.985757  0.961857  1.000000  0.758511  0.951530  0.916676   \n",
       "XAX   0.666619  0.709594  0.837928  0.758511  1.000000  0.645709  0.710600   \n",
       "SOX   0.926646  0.960351  0.889449  0.951530  0.645709  1.000000  0.922880   \n",
       "IXTC  0.834593  0.894921  0.926779  0.916676  0.710600  0.922880  1.000000   \n",
       "IXCO  0.986379  0.993803  0.875040  0.966704  0.684913  0.967724  0.885371   \n",
       "NDXT  0.974202  0.989767  0.881173  0.965317  0.681814  0.979583  0.898904   \n",
       "NDXX  0.961134  0.981643  0.915925  0.978752  0.740822  0.902227  0.852918   \n",
       "\n",
       "          IXCO      NDXT      NDXX  \n",
       "AAPL  0.986379  0.974202  0.961134  \n",
       "IXIC  0.993803  0.989767  0.981643  \n",
       "NYA   0.875040  0.881173  0.915925  \n",
       "GSPC  0.966704  0.965317  0.978752  \n",
       "XAX   0.684913  0.681814  0.740822  \n",
       "SOX   0.967724  0.979583  0.902227  \n",
       "IXTC  0.885371  0.898904  0.852918  \n",
       "IXCO  1.000000  0.996244  0.958929  \n",
       "NDXT  0.996244  1.000000  0.951481  \n",
       "NDXX  0.958929  0.951481  1.000000  "
      ]
     },
     "execution_count": 116,
     "metadata": {},
     "output_type": "execute_result"
    }
   ],
   "source": [
    "df_name_normalized.corr()"
   ]
  },
  {
   "cell_type": "code",
   "execution_count": 117,
   "metadata": {},
   "outputs": [
    {
     "data": {
      "image/png": "[encoded data removed]",
      "text/plain": [
       "<Figure size 432x288 with 2 Axes>"
      ]
     },
     "metadata": {
      "needs_background": "light"
     },
     "output_type": "display_data"
    }
   ],
   "source": [
    "correlation_matrix(df_name_normalized) # normalized data"
   ]
  },
  {
   "cell_type": "code",
   "execution_count": 118,
   "metadata": {},
   "outputs": [],
   "source": [
    "X = df_name_normalized.drop(stock_list[0],axis=1)\n",
    "X.fillna(method='ffill', inplace=True)\n",
    "\n",
    "y = df_name_normalized[stock_list[0]]\n",
    "y.fillna(method='ffill', inplace=True)"
   ]
  },
  {
   "cell_type": "code",
   "execution_count": 119,
   "metadata": {},
   "outputs": [
    {
     "data": {
      "text/html": [
       "<div>\n",
       "<style scoped>\n",
       "    .dataframe tbody tr th:only-of-type {\n",
       "        vertical-align: middle;\n",
       "    }\n",
       "\n",
       "    .dataframe tbody tr th {\n",
       "        vertical-align: top;\n",
       "    }\n",
       "\n",
       "    .dataframe thead th {\n",
       "        text-align: right;\n",
       "    }\n",
       "</style>\n",
       "<table border=\"1\" class=\"dataframe\">\n",
       "  <thead>\n",
       "    <tr style=\"text-align: right;\">\n",
       "      <th></th>\n",
       "      <th>IXIC</th>\n",
       "      <th>NYA</th>\n",
       "      <th>GSPC</th>\n",
       "      <th>XAX</th>\n",
       "      <th>SOX</th>\n",
       "      <th>IXTC</th>\n",
       "      <th>IXCO</th>\n",
       "      <th>NDXT</th>\n",
       "      <th>NDXX</th>\n",
       "    </tr>\n",
       "  </thead>\n",
       "  <tbody>\n",
       "    <tr>\n",
       "      <th>3225</th>\n",
       "      <td>0.848070</td>\n",
       "      <td>0.819263</td>\n",
       "      <td>0.875695</td>\n",
       "      <td>0.733675</td>\n",
       "      <td>0.802842</td>\n",
       "      <td>0.931522</td>\n",
       "      <td>0.834199</td>\n",
       "      <td>0.854941</td>\n",
       "      <td>0.888799</td>\n",
       "    </tr>\n",
       "    <tr>\n",
       "      <th>3226</th>\n",
       "      <td>0.824730</td>\n",
       "      <td>0.800053</td>\n",
       "      <td>0.853253</td>\n",
       "      <td>0.708108</td>\n",
       "      <td>0.789489</td>\n",
       "      <td>0.894706</td>\n",
       "      <td>0.811772</td>\n",
       "      <td>0.834091</td>\n",
       "      <td>0.867493</td>\n",
       "    </tr>\n",
       "    <tr>\n",
       "      <th>3227</th>\n",
       "      <td>0.801791</td>\n",
       "      <td>0.776329</td>\n",
       "      <td>0.829293</td>\n",
       "      <td>0.692875</td>\n",
       "      <td>0.777635</td>\n",
       "      <td>0.854775</td>\n",
       "      <td>0.790170</td>\n",
       "      <td>0.813037</td>\n",
       "      <td>0.847803</td>\n",
       "    </tr>\n",
       "    <tr>\n",
       "      <th>3228</th>\n",
       "      <td>0.801791</td>\n",
       "      <td>0.776329</td>\n",
       "      <td>0.829293</td>\n",
       "      <td>0.692875</td>\n",
       "      <td>0.777635</td>\n",
       "      <td>0.854775</td>\n",
       "      <td>0.790170</td>\n",
       "      <td>0.813037</td>\n",
       "      <td>0.843047</td>\n",
       "    </tr>\n",
       "    <tr>\n",
       "      <th>3229</th>\n",
       "      <td>0.801791</td>\n",
       "      <td>0.776329</td>\n",
       "      <td>0.829293</td>\n",
       "      <td>0.692875</td>\n",
       "      <td>0.777635</td>\n",
       "      <td>0.854775</td>\n",
       "      <td>0.790170</td>\n",
       "      <td>0.813037</td>\n",
       "      <td>0.825936</td>\n",
       "    </tr>\n",
       "  </tbody>\n",
       "</table>\n",
       "</div>"
      ],
      "text/plain": [
       "          IXIC       NYA      GSPC       XAX       SOX      IXTC      IXCO  \\\n",
       "3225  0.848070  0.819263  0.875695  0.733675  0.802842  0.931522  0.834199   \n",
       "3226  0.824730  0.800053  0.853253  0.708108  0.789489  0.894706  0.811772   \n",
       "3227  0.801791  0.776329  0.829293  0.692875  0.777635  0.854775  0.790170   \n",
       "3228  0.801791  0.776329  0.829293  0.692875  0.777635  0.854775  0.790170   \n",
       "3229  0.801791  0.776329  0.829293  0.692875  0.777635  0.854775  0.790170   \n",
       "\n",
       "          NDXT      NDXX  \n",
       "3225  0.854941  0.888799  \n",
       "3226  0.834091  0.867493  \n",
       "3227  0.813037  0.847803  \n",
       "3228  0.813037  0.843047  \n",
       "3229  0.813037  0.825936  "
      ]
     },
     "execution_count": 119,
     "metadata": {},
     "output_type": "execute_result"
    }
   ],
   "source": [
    "X.tail()"
   ]
  },
  {
   "cell_type": "code",
   "execution_count": 120,
   "metadata": {},
   "outputs": [
    {
     "data": {
      "text/plain": [
       "0    0.008725\n",
       "1    0.008907\n",
       "2    0.008784\n",
       "3    0.008586\n",
       "4    0.007529\n",
       "Name: AAPL, dtype: float64"
      ]
     },
     "execution_count": 120,
     "metadata": {},
     "output_type": "execute_result"
    }
   ],
   "source": [
    "y.head()"
   ]
  },
  {
   "cell_type": "code",
   "execution_count": 121,
   "metadata": {},
   "outputs": [
    {
     "name": "stdout",
     "output_type": "stream",
     "text": [
      "X_train shape:  (2422, 9)\n",
      "y_train shape:  (2422,)\n",
      "X_test shape:  (808, 9)\n",
      "y_test shape:  (808,)\n"
     ]
    }
   ],
   "source": [
    "# Split data to training and test\n",
    "from sklearn.model_selection import train_test_split\n",
    "# Split X and y into X_\n",
    "X_train, X_test, y_train, y_test = train_test_split(X, y, test_size=0.25, random_state=2)\n",
    "print(\"X_train shape: \",X_train.shape) # 294 rows, 6 columns\n",
    "print(\"y_train shape: \",y_train.shape) # 294 rows, 1 column\n",
    "print(\"X_test shape: \",X_test.shape) # 98 rows, 6 columns\n",
    "print(\"y_test shape: \",y_test.shape) # 98 rows, 1 column\n",
    "#print(X_train)\n",
    "#X_test.isnull().sum()"
   ]
  },
  {
   "cell_type": "code",
   "execution_count": 122,
   "metadata": {},
   "outputs": [
    {
     "name": "stdout",
     "output_type": "stream",
     "text": [
      "dict_keys(['Linear_Regression', 'Ridge', 'Lasso', 'LassoLars', 'BayesianRidge'])\n"
     ]
    }
   ],
   "source": [
    "# Training models in Python dictionary\n",
    "import math\n",
    "from sklearn.metrics import mean_squared_error\n",
    "from sklearn.linear_model import LinearRegression\n",
    "from sklearn.linear_model import Ridge\n",
    "from sklearn.linear_model import Lasso\n",
    "from sklearn.linear_model import LassoLars\n",
    "from sklearn.linear_model import BayesianRidge\n",
    "\n",
    "# Next line is \"dictionary\" data structure from class 1\n",
    "d_models = {\"Linear_Regression\": LinearRegression(),\n",
    "            \"Ridge\": Ridge(alpha=0.5),\n",
    "            \"Lasso\": Lasso(alpha=0.1),\n",
    "            \"LassoLars\": LassoLars(alpha=0.1),\n",
    "            \"BayesianRidge\": BayesianRidge()}\n",
    "models_list = d_models.keys()\n",
    "print(models_list)"
   ]
  },
  {
   "cell_type": "code",
   "execution_count": 123,
   "metadata": {},
   "outputs": [
    {
     "name": "stdout",
     "output_type": "stream",
     "text": [
      "Linear_Regression   0.026700635453693854\n",
      "Ridge   0.02889602390536627\n",
      "Lasso   0.25002424470231044\n",
      "LassoLars   0.25002424470231044\n",
      "BayesianRidge   0.026711845282105007\n"
     ]
    }
   ],
   "source": [
    "for regression_model in models_list:\n",
    "#    print (regression_model)\n",
    "    regressor = d_models[regression_model]\n",
    "    regressor.fit(X_train,y_train)\n",
    "    y_predict = regressor.predict(X_test)\n",
    "    regression_model_mse = mean_squared_error(y_predict, y_test)\n",
    "    print(regression_model,\" \",math.sqrt(regression_model_mse))"
   ]
  },
  {
   "cell_type": "code",
   "execution_count": 124,
   "metadata": {},
   "outputs": [
    {
     "name": "stdout",
     "output_type": "stream",
     "text": [
      "-0.005065953598085593\n",
      "[ 0.01839341 -0.13561446 -0.24417058  0.01354746  0.08676856 -0.01208378\n",
      "  1.66086687 -0.8391363   0.38167914]\n",
      "Number of coefficients is  9\n"
     ]
    }
   ],
   "source": [
    "# Training model\n",
    "from sklearn.linear_model import BayesianRidge\n",
    "lm = BayesianRidge()\n",
    "lm.fit(X_train, y_train)\n",
    "print(lm.intercept_)\n",
    "print(lm.coef_)\n",
    "print (\"Number of coefficients is \",len(lm.coef_))"
   ]
  },
  {
   "cell_type": "code",
   "execution_count": 125,
   "metadata": {},
   "outputs": [
    {
     "name": "stdout",
     "output_type": "stream",
     "text": [
      "0.026711845282105007\n"
     ]
    }
   ],
   "source": [
    "import math\n",
    "from sklearn.metrics import mean_squared_error\n",
    "y_predict = lm.predict(X_test)\n",
    "regression_model_mse = mean_squared_error(y_predict, y_test)\n",
    "print(math.sqrt(regression_model_mse))"
   ]
  },
  {
   "cell_type": "code",
   "execution_count": 126,
   "metadata": {},
   "outputs": [
    {
     "name": "stdout",
     "output_type": "stream",
     "text": [
      "Starting predict request: [[  104.241173  4733.5      10049.290039  1951.130005  2177.22998\n",
      "    608.580017   250.449997  2366.199951  2152.790039  2360.459961]]\n"
     ]
    }
   ],
   "source": [
    "# pick a day data for verification\n",
    "first_test = np.array(df_merged.loc[[2400]])\n",
    "\n",
    "print(\"Starting predict request:\",first_test)\n"
   ]
  },
  {
   "cell_type": "code",
   "execution_count": 127,
   "metadata": {},
   "outputs": [
    {
     "name": "stdout",
     "output_type": "stream",
     "text": [
      "Normalized new test row : [[0.438988   0.50648073 0.618761   0.56542839 0.60845726 0.34310473\n",
      "  0.46559394 0.416227   0.40972181 0.6958184 ]]\n"
     ]
    }
   ],
   "source": [
    "first_test_transform = min_max_scaler.transform(first_test) # apply the same transform\n",
    "print(\"Normalized new test row :\",first_test_transform)"
   ]
  },
  {
   "cell_type": "code",
   "execution_count": 128,
   "metadata": {},
   "outputs": [],
   "source": [
    "test_1 = list(first_test_transform[0][1:]) # Extract all values excluding mpg\n",
    "test_seq = [test_1] # make a list of list"
   ]
  },
  {
   "cell_type": "code",
   "execution_count": 129,
   "metadata": {},
   "outputs": [
    {
     "name": "stdout",
     "output_type": "stream",
     "text": [
      "Test result MPG (still normalized):  0.427728218619983\n"
     ]
    }
   ],
   "source": [
    "test_result = lm.predict(test_seq) # apply model prediction\n",
    "print(\"Test result MPG (still normalized): \",test_result[0]) # this is still normalized mpg result"
   ]
  },
  {
   "cell_type": "code",
   "execution_count": 130,
   "metadata": {},
   "outputs": [
    {
     "name": "stdout",
     "output_type": "stream",
     "text": [
      "Test row with predicted (still normalized):  [[0.42772822 0.50648073 0.618761   0.56542839 0.60845726 0.34310473\n",
      "  0.46559394 0.416227   0.40972181 0.6958184 ]]\n"
     ]
    }
   ],
   "source": [
    "first_test_transform[0][0] = test_result[0] # put result back, replace dummy with predicted\n",
    "print(\"Test row with predicted (still normalized): \",first_test_transform)"
   ]
  },
  {
   "cell_type": "code",
   "execution_count": 131,
   "metadata": {},
   "outputs": [
    {
     "name": "stdout",
     "output_type": "stream",
     "text": [
      "Final test result:  [[  101.69178175  4733.5        10049.290039    1951.130005\n",
      "   2177.22998      608.580017     250.449997    2366.199951\n",
      "   2152.790039    2360.459961  ]]\n",
      "Real Price    AAPL  :  104.241173\n",
      "Predicted     AAPL  :  101.6917817513143\n"
     ]
    }
   ],
   "source": [
    "result = min_max_scaler.inverse_transform(first_test_transform) # apply inverse transform\n",
    "print(\"Final test result: \",result)\n",
    "print(\"Real Price   \", stock_list[0], \" : \",first_test[0][0])\n",
    "print(\"Predicted    \", stock_list[0], \" : \",result[0][0])"
   ]
  },
  {
   "cell_type": "code",
   "execution_count": 132,
   "metadata": {},
   "outputs": [
    {
     "name": "stdout",
     "output_type": "stream",
     "text": [
      "[[0.06130023 0.04613547 0.05782203 0.03387607 0.05660535 0.0422608\n",
      "  0.0609266  0.0618148  0.06652131]\n",
      " [0.04613547 0.0419826  0.04668928 0.03311884 0.04338232 0.03620327\n",
      "  0.04439591 0.04553729 0.05135764]\n",
      " [0.05782203 0.04668928 0.05612645 0.03465319 0.05366609 0.0414161\n",
      "  0.05671123 0.05768816 0.06346367]\n",
      " [0.03387607 0.03311884 0.03465319 0.03722825 0.02963568 0.02611759\n",
      "  0.03269769 0.03316329 0.03910874]\n",
      " [0.05660535 0.04338232 0.05366609 0.02963568 0.0566658  0.04189945\n",
      "  0.05704483 0.05882133 0.05878281]\n",
      " [0.0422608  0.03620327 0.0414161  0.02611759 0.04189945 0.03636104\n",
      "  0.0418167  0.04324358 0.04451646]\n",
      " [0.0609266  0.04439591 0.05671123 0.03269769 0.05704483 0.0418167\n",
      "  0.06131175 0.06222439 0.06498703]\n",
      " [0.0618148  0.04553729 0.05768816 0.03316329 0.05882133 0.04324358\n",
      "  0.06222439 0.0636264  0.06568832]\n",
      " [0.06652131 0.05135764 0.06346367 0.03910874 0.05878281 0.04451646\n",
      "  0.06498703 0.06568832 0.07491392]]\n"
     ]
    }
   ],
   "source": [
    "covariant_matrix = np.cov(X.T)\n",
    "print(covariant_matrix)"
   ]
  },
  {
   "cell_type": "code",
   "execution_count": 133,
   "metadata": {},
   "outputs": [],
   "source": [
    "eigen_values,eigen_vectors = np.linalg.eig(covariant_matrix)"
   ]
  },
  {
   "cell_type": "code",
   "execution_count": 134,
   "metadata": {},
   "outputs": [
    {
     "name": "stdout",
     "output_type": "stream",
     "text": [
      "[[ 0.36589887 -0.1434706  -0.18829967  0.0016477  -0.09643119 -0.28934341\n",
      "   0.11521282 -0.76793955  0.33771437]\n",
      " [ 0.28848792  0.34405151  0.25051288  0.44852741  0.37420828 -0.05824503\n",
      "  -0.50669159  0.06986274  0.35976137]\n",
      " [ 0.35032831  0.04145532 -0.0353676   0.29459164  0.25759104 -0.41656497\n",
      "   0.20600539  0.01145928 -0.71068093]\n",
      " [ 0.21897027  0.82039359 -0.10145885 -0.49559915 -0.02887122  0.03909162\n",
      "   0.1343357  -0.03347381 -0.0395687 ]\n",
      " [ 0.34252515 -0.25945212  0.38314313 -0.25701801  0.51913682  0.32710918\n",
      "   0.44506028  0.06348567  0.1545693 ]\n",
      " [ 0.26317956  0.06268884  0.65856864  0.16576677 -0.66621729  0.04117495\n",
      "   0.12808652  0.0140059  -0.0589253 ]\n",
      " [ 0.36242187 -0.23405855 -0.14223019 -0.31326201 -0.15784514 -0.51446461\n",
      "  -0.08690646  0.57022317  0.27057041]\n",
      " [ 0.36952841 -0.2448714  -0.02238869 -0.33934179 -0.05486003  0.33859056\n",
      "  -0.63570447 -0.15518388 -0.37679868]\n",
      " [ 0.39714862  0.01702532 -0.537587    0.39949328 -0.20544897  0.49982016\n",
      "   0.20820089  0.22510695  0.08566351]]\n"
     ]
    }
   ],
   "source": [
    "print(eigen_vectors)"
   ]
  },
  {
   "cell_type": "code",
   "execution_count": 135,
   "metadata": {},
   "outputs": [
    {
     "name": "stdout",
     "output_type": "stream",
     "text": [
      "[4.51673981e-01 2.11519281e-02 9.33773512e-03 5.02756139e-03\n",
      " 1.80856609e-03 3.32145385e-04 1.15432966e-04 1.82945803e-05\n",
      " 5.07967349e-05]\n"
     ]
    }
   ],
   "source": [
    "print(eigen_values[0:9])"
   ]
  },
  {
   "cell_type": "code",
   "execution_count": 136,
   "metadata": {},
   "outputs": [
    {
     "name": "stdout",
     "output_type": "stream",
     "text": [
      "[0.45167398071097065, 0.021151928116810916, 0.009337735117619272, 0.005027561390050736, 0.0018085660921119168, 0.00033214538510661326, 0.00011543296606862409, 1.829458033774366e-05, 5.079673492768844e-05]\n"
     ]
    }
   ],
   "source": [
    "#eigen_values_real = [x.real for x in eigen_values]\n",
    "print(eigen_values_real[0:9])"
   ]
  },
  {
   "cell_type": "code",
   "execution_count": 145,
   "metadata": {},
   "outputs": [
    {
     "name": "stdout",
     "output_type": "stream",
     "text": [
      "[0.9226941994053137, 0.043209842083218215, 0.019075426959614828, 0.010270464826094103, 0.0036945972398189767, 0.0006785173228590902, 0.00023581019221876747, 0.00010376921113040552, 3.737275973174201e-05]\n",
      "[0.9226942  0.96590404 0.98497947 0.99524993 0.99894453 0.99962305\n",
      " 0.99985886 0.99996263 1.        ]\n"
     ]
    },
    {
     "data": {
      "image/png": "[encoded data removed]",
      "text/plain": [
       "<Figure size 432x288 with 1 Axes>"
      ]
     },
     "metadata": {
      "needs_background": "light"
     },
     "output_type": "display_data"
    }
   ],
   "source": [
    "import matplotlib.pyplot as plt\n",
    "tot = sum(eigen_values_real)\n",
    "var_exp = [(i/tot) for i in sorted(eigen_values_real,reverse=True)]\n",
    "# print(len(var_exp))\n",
    "\n",
    "print(var_exp)\n",
    "cum_var_exp = np.cumsum(var_exp)\n",
    "print (cum_var_exp)\n",
    "plt.bar(range(0,9),var_exp,alpha=0.5,align='center',\n",
    "         label='individual explained variance')\n",
    "plt.step(range(0,9),cum_var_exp,where='mid',\n",
    "    label='cumulative explained variance')\n",
    "plt.ylabel('Explained variance ratio')\n",
    "plt.xlabel('Principal components')\n",
    "plt.legend(loc='best')\n",
    "plt.show()"
   ]
  },
  {
   "cell_type": "code",
   "execution_count": 142,
   "metadata": {},
   "outputs": [
    {
     "name": "stdout",
     "output_type": "stream",
     "text": [
      "9\n",
      "2\n",
      "[0.9226941994053137, 0.043209842083218215, 0.019075426959614828, 0.010270464826094103, 0.0036945972398189767, 0.0006785173228590902, 0.00023581019221876747, 0.00010376921113040552, 3.737275973174201e-05]\n",
      "[0.9226942  0.96590404]\n"
     ]
    },
    {
     "data": {
      "image/png": "[encoded data removed]",
      "text/plain": [
       "<Figure size 432x288 with 1 Axes>"
      ]
     },
     "metadata": {
      "needs_background": "light"
     },
     "output_type": "display_data"
    }
   ],
   "source": [
    "import matplotlib.pyplot as plt\n",
    "tot = sum(eigen_values_real)\n",
    "var_exp = [(i/tot) for i in sorted(eigen_values_real,reverse=True)]\n",
    "var_exp_2 = var_exp[0:2]\n",
    "cum_var_exp = np.cumsum(var_exp)\n",
    "cum_var_exp_2 = np.cumsum(var_exp[0:2])\n",
    "print(len(var_exp))\n",
    "print(len(var_exp_2))\n",
    "print(var_exp)\n",
    "print(cum_var_exp_2)\n",
    "\n",
    "plt.bar(range(0,2),var_exp_2,alpha=0.5,align='center',\n",
    "         label='individual explained variance')\n",
    "plt.step(range(0,2),cum_var_exp_2,where='mid',\n",
    "    label='cumulative explained variance')\n",
    "plt.ylabel('Explained variance ratio')\n",
    "plt.xlabel('Principal components')\n",
    "plt.legend(loc='best')\n",
    "plt.show()"
   ]
  },
  {
   "cell_type": "code",
   "execution_count": 146,
   "metadata": {},
   "outputs": [
    {
     "name": "stdout",
     "output_type": "stream",
     "text": [
      "9\n",
      "3\n",
      "[0.9226941994053137, 0.043209842083218215, 0.019075426959614828, 0.010270464826094103, 0.0036945972398189767, 0.0006785173228590902, 0.00023581019221876747, 0.00010376921113040552, 3.737275973174201e-05]\n",
      "[0.9226942  0.96590404 0.98497947]\n"
     ]
    },
    {
     "data": {
      "image/png": "[encoded data removed]",
      "text/plain": [
       "<Figure size 432x288 with 1 Axes>"
      ]
     },
     "metadata": {
      "needs_background": "light"
     },
     "output_type": "display_data"
    }
   ],
   "source": [
    "import matplotlib.pyplot as plt\n",
    "tot = sum(eigen_values_real)\n",
    "var_exp = [(i/tot) for i in sorted(eigen_values_real,reverse=True)]\n",
    "var_exp_3 = var_exp[0:3]\n",
    "cum_var_exp = np.cumsum(var_exp)\n",
    "cum_var_exp_3 = np.cumsum(var_exp[0:3])\n",
    "print(len(var_exp))\n",
    "print(len(var_exp_3))\n",
    "print(var_exp)\n",
    "print(cum_var_exp_3)\n",
    "\n",
    "plt.bar(range(0,3),var_exp_3,alpha=0.5,align='center',\n",
    "         label='individual explained variance')\n",
    "plt.step(range(0,3),cum_var_exp_3,where='mid',\n",
    "    label='cumulative explained variance')\n",
    "plt.ylabel('Explained variance ratio')\n",
    "plt.xlabel('Principal components')\n",
    "plt.legend(loc='best')\n",
    "plt.show()"
   ]
  },
  {
   "cell_type": "code",
   "execution_count": 149,
   "metadata": {},
   "outputs": [],
   "source": [
    "from sklearn.decomposition import PCA\n",
    "pca = PCA(n_components=4)\n",
    "principalComponents = pca.fit_transform(X)\n",
    "principalDf = pd.DataFrame(data = principalComponents, \\\n",
    "                           columns = ['principal component 1', 'principal component 2','principal component 3', 'principal component 4'])"
   ]
  },
  {
   "cell_type": "code",
   "execution_count": 150,
   "metadata": {},
   "outputs": [
    {
     "name": "stdout",
     "output_type": "stream",
     "text": [
      "[0.9226942  0.04320984 0.01907543 0.01027046]\n"
     ]
    }
   ],
   "source": [
    "print(pca.explained_variance_ratio_)"
   ]
  },
  {
   "cell_type": "code",
   "execution_count": 151,
   "metadata": {},
   "outputs": [
    {
     "name": "stdout",
     "output_type": "stream",
     "text": [
      "[[ 0.36589887  0.28848792  0.35032831  0.21897027  0.34252515  0.26317956\n",
      "   0.36242187  0.36952841  0.39714862]\n",
      " [ 0.1434706  -0.34405151 -0.04145532 -0.82039359  0.25945212 -0.06268884\n",
      "   0.23405855  0.2448714  -0.01702532]\n",
      " [-0.18829967  0.25051288 -0.0353676  -0.10145885  0.38314313  0.65856864\n",
      "  -0.14223019 -0.02238869 -0.537587  ]\n",
      " [-0.0016477  -0.44852741 -0.29459164  0.49559915  0.25701801 -0.16576677\n",
      "   0.31326201  0.33934179 -0.39949328]]\n"
     ]
    }
   ],
   "source": [
    "print(pca.components_)"
   ]
  },
  {
   "cell_type": "code",
   "execution_count": 152,
   "metadata": {},
   "outputs": [
    {
     "name": "stdout",
     "output_type": "stream",
     "text": [
      "   principal component 1  principal component 2  principal component 3  \\\n",
      "0              -0.544131               0.119942               0.106311   \n",
      "1              -0.549914               0.121858               0.102311   \n",
      "2              -0.544414               0.115359               0.105205   \n",
      "3              -0.536460               0.116927               0.106242   \n",
      "4              -0.547608               0.113787               0.104822   \n",
      "\n",
      "   principal component 4  \n",
      "0              -0.038442  \n",
      "1              -0.038921  \n",
      "2              -0.038083  \n",
      "3              -0.040528  \n",
      "4              -0.032766  \n",
      "      principal component 1  principal component 2  principal component 3  \\\n",
      "3225               1.278838               0.220825               0.133034   \n",
      "3226               1.212738               0.234843               0.121753   \n",
      "3227               1.147773               0.242756               0.105813   \n",
      "3228               1.145884               0.242837               0.108370   \n",
      "3229               1.139089               0.243128               0.117568   \n",
      "\n",
      "      principal component 4  \n",
      "3225              -0.011252  \n",
      "3226              -0.011575  \n",
      "3227              -0.003861  \n",
      "3228              -0.001961  \n",
      "3229               0.004874  \n"
     ]
    }
   ],
   "source": [
    "print(principalDf.head())\n",
    "print(principalDf.tail())"
   ]
  }
 ],
 "metadata": {
  "kernelspec": {
   "display_name": "Python 3",
   "language": "python",
   "name": "python3"
  },
  "language_info": {
   "codemirror_mode": {
    "name": "ipython",
    "version": 3
   },
   "file_extension": ".py",
   "mimetype": "text/x-python",
   "name": "python",
   "nbconvert_exporter": "python",
   "pygments_lexer": "ipython3",
   "version": "3.7.1"
  }
 },
 "nbformat": 4,
 "nbformat_minor": 2
}
