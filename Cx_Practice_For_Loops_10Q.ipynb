{
 "cells": [
  {
   "cell_type": "markdown",
   "metadata": {},
   "source": [
    "# Python practice problems with for loops, dict, input"
   ]
  },
  {
   "cell_type": "code",
   "execution_count": 1,
   "metadata": {},
   "outputs": [],
   "source": [
    "# Review Python \"input\" # this should help with assignments below"
   ]
  },
  {
   "cell_type": "code",
   "execution_count": 2,
   "metadata": {},
   "outputs": [
    {
     "name": "stdout",
     "output_type": "stream",
     "text": [
      "Which year will be next summer Olympics? 2020\n"
     ]
    }
   ],
   "source": [
    "Olympic_year = input(\"Which year will be next summer Olympics? \")"
   ]
  },
  {
   "cell_type": "code",
   "execution_count": 3,
   "metadata": {},
   "outputs": [
    {
     "name": "stdout",
     "output_type": "stream",
     "text": [
      "<class 'str'>\n"
     ]
    }
   ],
   "source": [
    "print(type(Olympic_year)) # it is string"
   ]
  },
  {
   "cell_type": "code",
   "execution_count": 4,
   "metadata": {},
   "outputs": [
    {
     "name": "stdout",
     "output_type": "stream",
     "text": [
      "<class 'int'>\n"
     ]
    }
   ],
   "source": [
    "print(type(int(Olympic_year))) # it is integer"
   ]
  },
  {
   "cell_type": "markdown",
   "metadata": {},
   "source": [
    "1) Write a for loop to print \"Hello\" 10 times."
   ]
  },
  {
   "cell_type": "code",
   "execution_count": 5,
   "metadata": {},
   "outputs": [
    {
     "name": "stdout",
     "output_type": "stream",
     "text": [
      "HelloHelloHelloHelloHelloHelloHelloHelloHelloHello\n"
     ]
    }
   ],
   "source": [
    "# Write code here ...\n",
    "print (\"Hello\" * 10)\n"
   ]
  },
  {
   "cell_type": "markdown",
   "metadata": {},
   "source": [
    "2) Write a for loop to print even numbers in the range 1 .. 20"
   ]
  },
  {
   "cell_type": "code",
   "execution_count": 6,
   "metadata": {},
   "outputs": [
    {
     "name": "stdout",
     "output_type": "stream",
     "text": [
      "2\n",
      "4\n",
      "6\n",
      "8\n",
      "10\n",
      "12\n",
      "14\n",
      "16\n",
      "18\n",
      "20\n"
     ]
    }
   ],
   "source": [
    "# Write code here ...\n",
    "for i in range(1,21):\n",
    "    if i % 2 == 0:\n",
    "        print (i)\n"
   ]
  },
  {
   "cell_type": "code",
   "execution_count": 7,
   "metadata": {},
   "outputs": [
    {
     "data": {
      "text/plain": [
       "'\\n3) Define a list of animals to be as follows:\\nanimals = [\"lion\",\"tiger\",\"elephant\",\"giraffe\",\"zebra\"]\\n\\nNow print animal names using for loop. The output should be as follows:\\n1 lion\\n2 tiger\\n3 elephant\\n4 giraffe\\n5 zebra\\n'"
      ]
     },
     "execution_count": 7,
     "metadata": {},
     "output_type": "execute_result"
    }
   ],
   "source": [
    "\"\"\"\n",
    "3) Define a list of animals to be as follows:\n",
    "animals = [\"lion\",\"tiger\",\"elephant\",\"giraffe\",\"zebra\"]\n",
    "\n",
    "Now print animal names using for loop. The output should be as follows:\n",
    "1 lion\n",
    "2 tiger\n",
    "3 elephant\n",
    "4 giraffe\n",
    "5 zebra\n",
    "\"\"\""
   ]
  },
  {
   "cell_type": "code",
   "execution_count": 8,
   "metadata": {},
   "outputs": [
    {
     "name": "stdout",
     "output_type": "stream",
     "text": [
      "0 lion\n",
      "1 tiger\n",
      "2 elephant\n",
      "3 giraffe\n",
      "4 zebra\n"
     ]
    }
   ],
   "source": [
    "# Write code here ...\n",
    "animals = [\"lion\",\"tiger\",\"elephant\",\"giraffe\",\"zebra\"]\n",
    "for i, animal in enumerate(animals):\n",
    "    print(i, animal)\n",
    "    "
   ]
  },
  {
   "cell_type": "code",
   "execution_count": 9,
   "metadata": {},
   "outputs": [
    {
     "data": {
      "text/plain": [
       "'\\n4) Visiting moon every year for next 10 years\\nThe weight on moon can be estimated to be 18%  of weight on earth.\\nWrite a program which will ask the user to enter current earth weight.\\nThen calculate weight on moon. Assume our weight increases by 2 pounds every year\\n\\nUse for loop to print weight on moon each year when you visit.\\n'"
      ]
     },
     "execution_count": 9,
     "metadata": {},
     "output_type": "execute_result"
    }
   ],
   "source": [
    "\"\"\"\n",
    "4) Visiting moon every year for next 10 years\n",
    "The weight on moon can be estimated to be 18%  of weight on earth.\n",
    "Write a program which will ask the user to enter current earth weight.\n",
    "Then calculate weight on moon. Assume our weight increases by 2 pounds every year\n",
    "\n",
    "Use for loop to print weight on moon each year when you visit.\n",
    "\"\"\""
   ]
  },
  {
   "cell_type": "code",
   "execution_count": 10,
   "metadata": {},
   "outputs": [
    {
     "name": "stdout",
     "output_type": "stream",
     "text": [
      "What is the current weight of the earth? 1.317e25\n",
      "In year 0 The Moon weight 2.7973079999999995e+24 pound.\n",
      "In year 1 The Moon weight 3.3008234399999995e+24 pound.\n",
      "In year 2 The Moon weight 3.894971659199999e+24 pound.\n",
      "In year 3 The Moon weight 4.5960665578559983e+24 pound.\n",
      "In year 4 The Moon weight 5.423358538270078e+24 pound.\n",
      "In year 5 The Moon weight 6.399563075158692e+24 pound.\n",
      "In year 6 The Moon weight 7.551484428687255e+24 pound.\n",
      "In year 7 The Moon weight 8.91075162585096e+24 pound.\n",
      "In year 8 The Moon weight 1.0514686918504132e+25 pound.\n",
      "In year 9 The Moon weight 1.2407330563834877e+25 pound.\n",
      "In year 10 The Moon weight 1.4640650065325154e+25 pound.\n"
     ]
    }
   ],
   "source": [
    "# Write code here ...\n",
    "Earth_weight = float(input(\"What is the current weight of the earth? \"))\n",
    "for i in range(11):\n",
    "    Earth_weight=Earth_weight * 1.18\n",
    "    print (\"In year \" + str(i)+ \" The Moon weight \" + str(Earth_weight * 0.18) + \" pound.\") \n",
    "\n"
   ]
  },
  {
   "cell_type": "markdown",
   "metadata": {},
   "source": [
    "5) Write a for loop to find the sum of all numbers from 1 to 100; 1 + 2 + ... + 99 + 100"
   ]
  },
  {
   "cell_type": "code",
   "execution_count": 11,
   "metadata": {},
   "outputs": [
    {
     "name": "stdout",
     "output_type": "stream",
     "text": [
      "5050\n"
     ]
    }
   ],
   "source": [
    "# Write code here ...\n",
    "sum = 0\n",
    "for i in range(1, 101):\n",
    "    sum = sum + i\n",
    "print (sum)\n",
    "    "
   ]
  },
  {
   "cell_type": "markdown",
   "metadata": {},
   "source": [
    "6) Write a for loop which will ask the user to input 4 numbers. The program should calculate sum of 4 numbers and print the sum."
   ]
  },
  {
   "cell_type": "code",
   "execution_count": 12,
   "metadata": {},
   "outputs": [
    {
     "name": "stdout",
     "output_type": "stream",
     "text": [
      "enter four numbers:4 3 2 1\n",
      "10\n"
     ]
    }
   ],
   "source": [
    "# Write code here ..\n",
    "num_list= input(\"enter four numbers:\").split(\" \")\n",
    "if len(num_list) < 4:\n",
    "    print (\"Error !!! Number of numbers is less than 4\")\n",
    "else:\n",
    "    sum = 0\n",
    "    for i in num_list:\n",
    "        sum = sum + int(i)\n",
    "    print (sum)\n",
    "\n"
   ]
  },
  {
   "cell_type": "markdown",
   "metadata": {},
   "source": [
    "7) Write a Python for loop to find product of even number from 1 to 50;\n",
    "2 x 4 x 6 x 8 x ... x 42 x 44 x 46 x 50"
   ]
  },
  {
   "cell_type": "code",
   "execution_count": 13,
   "metadata": {},
   "outputs": [
    {
     "name": "stdout",
     "output_type": "stream",
     "text": [
      "520469842636666622693081088000000\n"
     ]
    }
   ],
   "source": [
    "# Write code here ...\n",
    "prod = 1\n",
    "for i in range(1,51):\n",
    "    if i % 2 == 0:\n",
    "        prod = prod * i\n",
    "print (prod)\n",
    "\n"
   ]
  },
  {
   "cell_type": "markdown",
   "metadata": {},
   "source": [
    "8a) Find the index of minimum and maximum number in MyList."
   ]
  },
  {
   "cell_type": "code",
   "execution_count": 14,
   "metadata": {},
   "outputs": [],
   "source": [
    "myList = [46, 84, 43, 75, 94, 7, 17, 76, 44, 17, 81, 21, 70, 56, 98, 88, 59, 58, 62, 77, \n",
    "          56, 19, 83, 82, 2, 38, 8, 57, 80, 54, 71, 74, 77, 18, 66, 25, 60, 29, 30, 11, \n",
    "          45, 60, 92, 44, 71, 49, 22, 74, 30, 58, 73, 60, 14, 97, 13, 78, 42, 17, 98, 14, \n",
    "          19, 79, 54, 56, 84, 81, 49, 18, 95, 36, 84, 77, 44, 69, 48, 94, 66, 13, 96, 7, \n",
    "          9, 47, 4, 37, 71, 51, 9, 28, 92, 38, 75, 66, 2, 34, 88, 4, 43, 75, 57, 83,\n",
    "          63, 17, 25, 98, 71, 95, 1, 86, 97, 90, 6, 96, 11, 49, 16, 91, 50, 66, 54, 94,\n",
    "          75, 69, 97, 23, 50, 13, 75, 15, 77, 17, 57, 59, 47, 44, 95, 28, 16, 72, 69, 7,\n",
    "          14, 76, 10, 21, 56, 89, 51, 78, 25, 7, 8, 17, 53, 86, 58, 35, 46, 16, 74, 21, 9,\n",
    "          4, 91, 59, 84, 50, 86, 60, 63, 99, 92, 64, 55, 40, 93, 39, 48, 96, 49, 98, 36,\n",
    "          72, 82, 45, 62, 58, 77, 17, 42, 49, 38, 21, 84, 61, 77, 1, 37, 31, 50, 52, 58]"
   ]
  },
  {
   "cell_type": "code",
   "execution_count": 15,
   "metadata": {},
   "outputs": [
    {
     "name": "stdout",
     "output_type": "stream",
     "text": [
      "The minmum is 1 located at 106\n",
      "The maxmum is 99 located at 169\n"
     ]
    }
   ],
   "source": [
    "# Write code here ...\n",
    "myList = [46, 84, 43, 75, 94, 7, 17, 76, 44, 17, 81, 21, 70, 56, 98, 88, 59, 58, 62, 77, \n",
    "          56, 19, 83, 82, 2, 38, 8, 57, 80, 54, 71, 74, 77, 18, 66, 25, 60, 29, 30, 11, \n",
    "          45, 60, 92, 44, 71, 49, 22, 74, 30, 58, 73, 60, 14, 97, 13, 78, 42, 17, 98, 14, \n",
    "          19, 79, 54, 56, 84, 81, 49, 18, 95, 36, 84, 77, 44, 69, 48, 94, 66, 13, 96, 7, \n",
    "          9, 47, 4, 37, 71, 51, 9, 28, 92, 38, 75, 66, 2, 34, 88, 4, 43, 75, 57, 83,\n",
    "          63, 17, 25, 98, 71, 95, 1, 86, 97, 90, 6, 96, 11, 49, 16, 91, 50, 66, 54, 94,\n",
    "          75, 69, 97, 23, 50, 13, 75, 15, 77, 17, 57, 59, 47, 44, 95, 28, 16, 72, 69, 7,\n",
    "          14, 76, 10, 21, 56, 89, 51, 78, 25, 7, 8, 17, 53, 86, 58, 35, 46, 16, 74, 21, 9,\n",
    "          4, 91, 59, 84, 50, 86, 60, 63, 99, 92, 64, 55, 40, 93, 39, 48, 96, 49, 98, 36,\n",
    "          72, 82, 45, 62, 58, 77, 17, 42, 49, 38, 21, 84, 61, 77, 1, 37, 31, 50, 52, 58]\n",
    "min = max = myList[0]\n",
    "max = 1\n",
    "index1 = index2 = 0\n",
    "for i in range(len(myList)):\n",
    "    if myList[i] < min:\n",
    "        min =  myList[i]\n",
    "        index1 =  i\n",
    "    if myList[i] > max:\n",
    "        max = myList[i]\n",
    "        index2 = i\n",
    "print (\"The minmum is \" + str(min) + \" located at \" + str(index1))\n",
    "print (\"The maxmum is \" + str(max) + \" located at \" + str(index2))\n",
    "        "
   ]
  },
  {
   "cell_type": "markdown",
   "metadata": {},
   "source": [
    "8b) In myList, find top-5 highest frequency numbers. List the numbers and number of occurences."
   ]
  },
  {
   "cell_type": "code",
   "execution_count": 16,
   "metadata": {},
   "outputs": [
    {
     "name": "stdout",
     "output_type": "stream",
     "text": [
      "[7, 6, 5, 4, 3, 2, 1] <class 'list'>\n",
      "Number 84 appears 5 times\n",
      "Number 75 appears 5 times\n",
      "Number 94 appears 3 times\n",
      "Number 7 appears 4 times\n",
      "Number 17 appears 7 times\n",
      "Number 44 appears 4 times\n",
      "Number 21 appears 4 times\n",
      "Number 56 appears 4 times\n",
      "Number 98 appears 4 times\n",
      "Number 59 appears 3 times\n",
      "Number 58 appears 5 times\n",
      "Number 77 appears 6 times\n",
      "Number 38 appears 3 times\n",
      "Number 57 appears 3 times\n",
      "Number 54 appears 3 times\n",
      "Number 71 appears 4 times\n",
      "Number 74 appears 3 times\n",
      "Number 66 appears 4 times\n",
      "Number 25 appears 3 times\n",
      "Number 60 appears 4 times\n",
      "Number 92 appears 3 times\n",
      "Number 49 appears 5 times\n",
      "Number 14 appears 3 times\n",
      "Number 97 appears 3 times\n",
      "Number 13 appears 3 times\n",
      "Number 95 appears 3 times\n",
      "Number 69 appears 3 times\n",
      "Number 96 appears 3 times\n",
      "Number 9 appears 3 times\n",
      "Number 4 appears 3 times\n",
      "Number 86 appears 3 times\n",
      "Number 16 appears 3 times\n",
      "Number 50 appears 4 times\n"
     ]
    }
   ],
   "source": [
    "# write code here ...\n",
    "myList = [46, 84, 43, 75, 94, 7, 17, 76, 44, 17, 81, 21, 70, 56, 98, 88, 59, 58, 62, 77, \n",
    "          56, 19, 83, 82, 2, 38, 8, 57, 80, 54, 71, 74, 77, 18, 66, 25, 60, 29, 30, 11, \n",
    "          45, 60, 92, 44, 71, 49, 22, 74, 30, 58, 73, 60, 14, 97, 13, 78, 42, 17, 98, 14, \n",
    "          19, 79, 54, 56, 84, 81, 49, 18, 95, 36, 84, 77, 44, 69, 48, 94, 66, 13, 96, 7, \n",
    "          9, 47, 4, 37, 71, 51, 9, 28, 92, 38, 75, 66, 2, 34, 88, 4, 43, 75, 57, 83,\n",
    "          63, 17, 25, 98, 71, 95, 1, 86, 97, 90, 6, 96, 11, 49, 16, 91, 50, 66, 54, 94,\n",
    "          75, 69, 97, 23, 50, 13, 75, 15, 77, 17, 57, 59, 47, 44, 95, 28, 16, 72, 69, 7,\n",
    "          14, 76, 10, 21, 56, 89, 51, 78, 25, 7, 8, 17, 53, 86, 58, 35, 46, 16, 74, 21, 9,\n",
    "          4, 91, 59, 84, 50, 86, 60, 63, 99, 92, 64, 55, 40, 93, 39, 48, 96, 49, 98, 36,\n",
    "          72, 82, 45, 62, 58, 77, 17, 42, 49, 38, 21, 84, 61, 77, 1, 37, 31, 50, 52, 58]\n",
    "dic_count={}\n",
    "for i in myList:\n",
    "    if i not in dic_count:\n",
    "        dic_count[i] = 1\n",
    "    else:\n",
    "        dic_count[i] += 1\n",
    "       \n",
    "dic_value_lists = (list(dic_count.values()))\n",
    "dic_value_lists.sort(reverse=True)\n",
    "    \n",
    "dic_value_lists = list(set(dic_value_lists))\n",
    "dic_value_lists.sort(reverse=True)\n",
    "\n",
    "print (dic_value_lists, type(dic_value_lists))\n",
    "for i in dic_count.items():\n",
    "    if i[1] in dic_value_lists[0:5]:\n",
    "        print (\"Number \" + str(i[0]) + \" appears \" + str(i[1]) + \" times\")\n"
   ]
  },
  {
   "cell_type": "markdown",
   "metadata": {},
   "source": [
    "9) Write a Python program to convert temperature from Centigrade to Fahrenheit\n",
    "and Fahrenheit to Centigrade. At the start, the program should ask which way we are converting.\n",
    "\n",
    "Then ask the user to input the temperature. Your program should do the conversion\n",
    "and print the results.\n",
    "\n",
    "(C x 9/5) + 32 = F"
   ]
  },
  {
   "cell_type": "code",
   "execution_count": 17,
   "metadata": {},
   "outputs": [
    {
     "name": "stdout",
     "output_type": "stream",
     "text": [
      "------------------------------\n",
      "   M A I N - M E N U\n",
      "------------------------------\n",
      "1. Centigrade to Fahrenhei\n",
      "2. Fahrenheit to Centigradet\n",
      "3. Exit\n",
      "------------------------------\n",
      "Enter your choice [1-3] : 2\n",
      "Enter the temperature : 212\n",
      "It is the 100.0 Centigrade.\n"
     ]
    }
   ],
   "source": [
    "# Write code here \n",
    "# Write code here \n",
    "print (30 * '-')\n",
    "print (\"   M A I N - M E N U\")\n",
    "print (30 * '-')\n",
    "print (\"1. Centigrade to Fahrenhei\")\n",
    "print (\"2. Fahrenheit to Centigradet\")\n",
    "print (\"3. Exit\")\n",
    "print (30 * '-')\n",
    " \n",
    "## Get input ###\n",
    "choice = input('Enter your choice [1-3] : ')\n",
    "\n",
    "### Convert string to int type ##\n",
    "choice = int(choice)\n",
    " \n",
    "### Take action as per selected menu-option ###\n",
    "if choice == 1:\n",
    "        temperature = float(input(\"Enter the temperature : \"))\n",
    "        print (\"It is the \" + str(temperature * 9 /5 + 32) +  \" Fahrenhei.\" )\n",
    "elif choice == 2:\n",
    "        temperature = float(input(\"Enter the temperature : \"))\n",
    "        print (\"It is the \" + str((temperature -32) * 5 / 9) +  \" Centigrade.\" )\n",
    "else:   \n",
    "        print (\"Exited.\")"
   ]
  },
  {
   "cell_type": "code",
   "execution_count": 18,
   "metadata": {},
   "outputs": [
    {
     "data": {
      "text/plain": [
       "'\\n10) Print the times table:\\n1x1=1 1x2=2 1x3=3 1x4=4 1x5=5\\n2x1=2 2x2=4 2x3=6 2x4=8 2x5=10\\n3x1=3 3x2=6 3x3=9 3x4=12 3x5=15\\n4x1=3 4x2=6 4x3=9 4x4=12 4x5=15\\n5x1=3 5x2=6 5x3=9 5x4=12 5x5=15\\n\\nUse for loop nested with for loop to print the above multiplication table\\n'"
      ]
     },
     "execution_count": 18,
     "metadata": {},
     "output_type": "execute_result"
    }
   ],
   "source": [
    "\"\"\"\n",
    "10) Print the times table:\n",
    "1x1=1 1x2=2 1x3=3 1x4=4 1x5=5\n",
    "2x1=2 2x2=4 2x3=6 2x4=8 2x5=10\n",
    "3x1=3 3x2=6 3x3=9 3x4=12 3x5=15\n",
    "4x1=3 4x2=6 4x3=9 4x4=12 4x5=15\n",
    "5x1=3 5x2=6 5x3=9 5x4=12 5x5=15\n",
    "\n",
    "Use for loop nested with for loop to print the above multiplication table\n",
    "\"\"\""
   ]
  },
  {
   "cell_type": "code",
   "execution_count": 19,
   "metadata": {},
   "outputs": [
    {
     "name": "stdout",
     "output_type": "stream",
     "text": [
      "1x1=1 1x2=2 1x3=3 1x4=4 1x5=5 \n",
      "\n",
      "2x1=2 2x2=4 2x3=6 2x4=8 2x5=10 \n",
      "\n",
      "3x1=3 3x2=6 3x3=9 3x4=12 3x5=15 \n",
      "\n",
      "4x1=4 4x2=8 4x3=12 4x4=16 4x5=20 \n",
      "\n",
      "5x1=5 5x2=10 5x3=15 5x4=20 5x5=25 \n",
      "\n"
     ]
    }
   ],
   "source": [
    "# write code here \n",
    "for i in range(1, 6):\n",
    "    for j in range(1, 6):\n",
    "        print (str(i)+\"x\"+str(j)+\"=\" + str(i * j), end=\" \")\n",
    "    print (\"\\n\")"
   ]
  },
  {
   "cell_type": "code",
   "execution_count": null,
   "metadata": {},
   "outputs": [],
   "source": []
  }
 ],
 "metadata": {
  "kernelspec": {
   "display_name": "Python 3",
   "language": "python",
   "name": "python3"
  },
  "language_info": {
   "codemirror_mode": {
    "name": "ipython",
    "version": 3
   },
   "file_extension": ".py",
   "mimetype": "text/x-python",
   "name": "python",
   "nbconvert_exporter": "python",
   "pygments_lexer": "ipython3",
   "version": "3.7.1"
  }
 },
 "nbformat": 4,
 "nbformat_minor": 2
}
