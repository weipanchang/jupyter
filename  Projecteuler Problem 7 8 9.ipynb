{
 "cells": [
  {
   "cell_type": "code",
   "execution_count": null,
   "metadata": {},
   "outputs": [],
   "source": [
    "# By listing the first six prime numbers: 2, 3, 5, 7, 11, and 13, we can see that the 6th prime is 13.\n",
    "\n",
    "# What is the 10 001st prime number?\n"
   ]
  },
  {
   "cell_type": "code",
   "execution_count": 2,
   "metadata": {},
   "outputs": [
    {
     "name": "stdout",
     "output_type": "stream",
     "text": [
      "11\n",
      "13\n",
      "17\n",
      "37\n",
      "104743\n"
     ]
    }
   ],
   "source": [
    "#!/usr/bin/env python\n",
    "import math\n",
    "    \n",
    "def primary_check(n):\n",
    "    if n == 1 or n == 2 or n == 3:\n",
    "        return True\n",
    "    for i in range(2, int(math.sqrt(n) + 1)):\n",
    "        if n % i == 0:\n",
    "            return False\n",
    "    return True\n",
    "\n",
    "def find_primary_below(n):    \n",
    "    i = m = 3\n",
    "    while i <= n:\n",
    "        m += 2\n",
    "        if primary_check(m):\n",
    "            i += 1\n",
    "    print (m)\n",
    "    \n",
    "find_primary_below(5)\n",
    "find_primary_below(6)\n",
    "find_primary_below(7)\n",
    "find_primary_below(12)\n",
    "find_primary_below(10001)"
   ]
  },
  {
   "cell_type": "code",
   "execution_count": null,
   "metadata": {},
   "outputs": [],
   "source": [
    "# ###\n",
    "\n",
    "# The four adjacent digits in the 1000-digit number that have the greatest product are 9 × 9 × 8 × 9 = 5832.\n",
    "\n",
    "# 73167176531330624919225119674426574742355349194934\n",
    "# 96983520312774506326239578318016984801869478851843\n",
    "# 85861560789112949495459501737958331952853208805511\n",
    "# 12540698747158523863050715693290963295227443043557\n",
    "# 66896648950445244523161731856403098711121722383113\n",
    "# 62229893423380308135336276614282806444486645238749\n",
    "# 30358907296290491560440772390713810515859307960866\n",
    "# 70172427121883998797908792274921901699720888093776\n",
    "# 65727333001053367881220235421809751254540594752243\n",
    "# 52584907711670556013604839586446706324415722155397\n",
    "# 53697817977846174064955149290862569321978468622482\n",
    "# 83972241375657056057490261407972968652414535100474\n",
    "# 82166370484403199890008895243450658541227588666881\n",
    "# 16427171479924442928230863465674813919123162824586\n",
    "# 17866458359124566529476545682848912883142607690042\n",
    "# 24219022671055626321111109370544217506941658960408\n",
    "# 07198403850962455444362981230987879927244284909188\n",
    "# 84580156166097919133875499200524063689912560717606\n",
    "# 05886116467109405077541002256983155200055935729725\n",
    "# 71636269561882670428252483600823257530420752963450\n",
    "\n",
    "# Find the thirteen adjacent digits in the 1000-digit number that have the greatest product. What is the value of this product?\n",
    "\n",
    "# ###"
   ]
  },
  {
   "cell_type": "code",
   "execution_count": 5,
   "metadata": {},
   "outputs": [
    {
     "name": "stdout",
     "output_type": "stream",
     "text": [
      "5832\n",
      "23514624000\n"
     ]
    }
   ],
   "source": [
    "#!/usr/bin/env python\n",
    "from functools import reduce\n",
    "    \n",
    "s='73167176531330624919225119674426574742355349194934\\\n",
    "9698352031277450632623957831801698480186947885184\\\n",
    "85861560789112949495459501737958331952853208805511\\\n",
    "12540698747158523863050715693290963295227443043557\\\n",
    "66896648950445244523161731856403098711121722383113\\\n",
    "62229893423380308135336276614282806444486645238749\\\n",
    "30358907296290491560440772390713810515859307960866\\\n",
    "70172427121883998797908792274921901699720888093776\\\n",
    "65727333001053367881220235421809751254540594752243\\\n",
    "52584907711670556013604839586446706324415722155397\\\n",
    "53697817977846174064955149290862569321978468622482\\\n",
    "83972241375657056057490261407972968652414535100474\\\n",
    "82166370484403199890008895243450658541227588666881\\\n",
    "16427171479924442928230863465674813919123162824586\\\n",
    "17866458359124566529476545682848912883142607690042\\\n",
    "24219022671055626321111109370544217506941658960408\\\n",
    "07198403850962455444362981230987879927244284909188\\\n",
    "84580156166097919133875499200524063689912560717606\\\n",
    "05886116467109405077541002256983155200055935729725\\\n",
    "71636269561882670428252483600823257530420752963450\\\n",
    "'\n",
    "l = []\n",
    "def print_Largest_product(n):\n",
    "    for i in range(len(s) - n):\n",
    "        l.append(reduce(lambda k, j: int(k) * int(j), s[i:i + n]))\n",
    "    print (max(l))\n",
    "    \n",
    "print_Largest_product(4)\n",
    "print_Largest_product(13)  "
   ]
  },
  {
   "cell_type": "code",
   "execution_count": null,
   "metadata": {},
   "outputs": [],
   "source": [
    "\n",
    "\n",
    "# A Pythagorean triplet is a set of three natural numbers, a < b < c, for which,\n",
    "# a2 + b2 = c2\n",
    "\n",
    "# For example, 32 + 42 = 9 + 16 = 25 = 52.\n",
    "\n",
    "# There exists exactly one Pythagorean triplet for which a + b + c = 1000.\n",
    "# Find the product abc.\n"
   ]
  },
  {
   "cell_type": "code",
   "execution_count": 6,
   "metadata": {},
   "outputs": [
    {
     "name": "stdout",
     "output_type": "stream",
     "text": [
      "[(3, 4, 5)] 60\n",
      "[(200, 375, 425)] 31875000\n"
     ]
    }
   ],
   "source": [
    "from functools import reduce\n",
    "\n",
    "def find_special_pythagorean_triple(N):\n",
    "    triplet = [(a,b,c) for a in range(1,N//3+1) for b in range(a,N//2+1) for c in range(b,N-1) if (a**2 + b**2 == c**2) and (a+b+c == N)]\n",
    "    print (triplet, reduce(lambda x,y: x * y , triplet[0]))\n",
    "    return\n",
    "\n",
    "find_special_pythagorean_triple(12)\n",
    "find_special_pythagorean_triple(1000)"
   ]
  },
  {
   "cell_type": "code",
   "execution_count": null,
   "metadata": {},
   "outputs": [],
   "source": []
  }
 ],
 "metadata": {
  "kernelspec": {
   "display_name": "Python 3",
   "language": "python",
   "name": "python3"
  },
  "language_info": {
   "codemirror_mode": {
    "name": "ipython",
    "version": 3
   },
   "file_extension": ".py",
   "mimetype": "text/x-python",
   "name": "python",
   "nbconvert_exporter": "python",
   "pygments_lexer": "ipython3",
   "version": "3.7.1"
  }
 },
 "nbformat": 4,
 "nbformat_minor": 2
}
